{
  "nbformat": 4,
  "nbformat_minor": 0,
  "metadata": {
    "colab": {
      "private_outputs": true,
      "provenance": [],
      "collapsed_sections": [
        "vncDsAP0Gaoa",
        "FJNUwmbgGyua",
        "w6K7xa23Elo4",
        "yQaldy8SH6Dl",
        "mDgbUHAGgjLW",
        "O_i_v8NEhb9l",
        "HhfV-JJviCcP",
        "Y3lxredqlCYt",
        "3RnN4peoiCZX",
        "x71ZqKXriCWQ",
        "7hBIi_osiCS2",
        "JlHwYmJAmNHm",
        "35m5QtbWiB9F",
        "PoPl-ycgm1ru",
        "H0kj-8xxnORC",
        "nA9Y7ga8ng1Z",
        "PBTbrJXOngz2",
        "u3PMJOP6ngxN",
        "dauF4eBmngu3",
        "bKJF3rekwFvQ",
        "MSa1f5Uengrz",
        "GF8Ens_Soomf",
        "0wOQAZs5pc--",
        "K5QZ13OEpz2H",
        "lQ7QKXXCp7Bj",
        "448CDAPjqfQr",
        "KSlN3yHqYklG",
        "t6dVpIINYklI",
        "ijmpgYnKYklI",
        "-JiQyfWJYklI",
        "EM7whBJCYoAo",
        "fge-S5ZAYoAp",
        "85gYPyotYoAp",
        "RoGjAbkUYoAp",
        "4Of9eVA-YrdM",
        "iky9q4vBYrdO",
        "F6T5p64dYrdO",
        "y-Ehk30pYrdP",
        "bamQiAODYuh1",
        "QHF8YVU7Yuh3",
        "GwzvFGzlYuh3",
        "qYpmQ266Yuh3",
        "OH-pJp9IphqM",
        "bbFf2-_FphqN",
        "_ouA3fa0phqN",
        "Seke61FWphqN",
        "PIIx-8_IphqN",
        "t27r6nlMphqO",
        "r2jJGEOYphqO",
        "b0JNsNcRphqO",
        "BZR9WyysphqO",
        "jj7wYXLtphqO",
        "eZrbJ2SmphqO",
        "rFu4xreNphqO",
        "YJ55k-q6phqO",
        "gCFgpxoyphqP",
        "OVtJsKN_phqQ",
        "lssrdh5qphqQ",
        "U2RJ9gkRphqQ",
        "1M8mcRywphqQ",
        "tgIPom80phqQ",
        "JMzcOPDDphqR",
        "x-EpHcCOp1ci",
        "X_VqEhTip1ck",
        "8zGJKyg5p1ck",
        "PVzmfK_Ep1ck",
        "n3dbpmDWp1ck",
        "ylSl6qgtp1ck",
        "ZWILFDl5p1ck",
        "M7G43BXep1ck",
        "Ag9LCva-p1cl",
        "E6MkPsBcp1cl",
        "2cELzS2fp1cl",
        "3MPXvC8up1cl",
        "NC_X3p0fY2L0",
        "UV0SzAkaZNRQ",
        "YPEH6qLeZNRQ",
        "q29F0dvdveiT",
        "EXh0U9oCveiU",
        "22aHeOlLveiV",
        "g-ATYxFrGrvw",
        "Yfr_Vlr8HBkt",
        "8yEUt7NnHlrM",
        "tEA2Xm5dHt1r",
        "I79__PHVH19G",
        "Ou-I18pAyIpj",
        "fF3858GYyt-u",
        "4_0_7-oCpUZd",
        "hwyV_J3ipUZe",
        "3yB-zSqbpUZe",
        "dEUvejAfpUZe",
        "Fd15vwWVpUZf",
        "bn_IUdTipZyH",
        "49K5P_iCpZyH",
        "Nff-vKELpZyI",
        "kLW572S8pZyI",
        "dWbDXHzopZyI",
        "yLjJCtPM0KBk",
        "xiyOF9F70UgQ",
        "7wuGOrhz0itI",
        "id1riN9m0vUs",
        "578E2V7j08f6",
        "89xtkJwZ18nB",
        "67NQN5KX2AMe",
        "Iwf50b-R2tYG",
        "GMQiZwjn3iu7",
        "WVIkgGqN3qsr",
        "XkPnILGE3zoT",
        "Hlsf0x5436Go",
        "mT9DMSJo4nBL",
        "c49ITxTc407N",
        "OeJFEK0N496M",
        "9ExmJH0g5HBk",
        "cJNqERVU536h",
        "k5UmGsbsOxih",
        "T0VqWOYE6DLQ",
        "qBMux9mC6MCf",
        "-oLEiFgy-5Pf",
        "C74aWNz2AliB",
        "2DejudWSA-a0",
        "pEMng2IbBLp7",
        "rAdphbQ9Bhjc",
        "TNVZ9zx19K6k",
        "nqoHp30x9hH9",
        "rMDnDkt2B6du",
        "yiiVWRdJDDil",
        "1UUpS68QDMuG",
        "kexQrXU-DjzY",
        "T5CmagL3EC8N",
        "BhH2vgX9EjGr",
        "qjKvONjwE8ra",
        "P1XJ9OREExlT",
        "VFOzZv6IFROw",
        "TIqpNgepFxVj",
        "VfCC591jGiD4",
        "OB4l2ZhMeS1U",
        "ArJBuiUVfxKd",
        "4qY1EAkEfxKe",
        "PiV4Ypx8fxKe",
        "TfvqoZmBfxKf",
        "dJ2tPlVmpsJ0",
        "JWYfwnehpsJ1",
        "-jK_YjpMpsJ2",
        "HAih1iBOpsJ2",
        "zVGeBEFhpsJ2",
        "bmKjuQ-FpsJ3",
        "Fze-IPXLpx6K",
        "7AN1z2sKpx6M",
        "9PIHJqyupx6M",
        "_-qAgymDpx6N",
        "Z-hykwinpx6N",
        "h_CCil-SKHpo",
        "cBFFvTBNJzUa",
        "HvGl1hHyA_VK",
        "EyNgTHvd2WFk",
        "KH5McJBi2d8v",
        "iW_Lq9qf2h6X",
        "-Kee-DAl2viO",
        "gCX9965dhzqZ",
        "gIfDvo9L0UH2"
      ],
      "include_colab_link": true
    },
    "kernelspec": {
      "name": "python3",
      "display_name": "Python 3"
    },
    "language_info": {
      "name": "python"
    }
  },
  "cells": [
    {
      "cell_type": "markdown",
      "metadata": {
        "id": "view-in-github",
        "colab_type": "text"
      },
      "source": [
        "<a href=\"https://colab.research.google.com/github/Rajat123-mittal/Regression---Bike-Sharing-Demand-Prediction/blob/main/Bike_Sharing_Demand_Prediction_ML.ipynb\" target=\"_parent\"><img src=\"https://colab.research.google.com/assets/colab-badge.svg\" alt=\"Open In Colab\"/></a>"
      ]
    },
    {
      "cell_type": "markdown",
      "source": [
        "# **Project Name**    -Seoul Bike Sharing Demand Prediction\n",
        "\n"
      ],
      "metadata": {
        "id": "vncDsAP0Gaoa"
      }
    },
    {
      "cell_type": "markdown",
      "source": [
        "##### **Project Type**    - Regression\n",
        "##### **Contribution**    - Individual\n",
        "##### **Team Member 1 -**  Rajat Mittal\n",
        "##### **Email Id -**  rajatmittal251@gmail.com"
      ],
      "metadata": {
        "id": "beRrZCGUAJYm"
      }
    },
    {
      "cell_type": "markdown",
      "source": [],
      "metadata": {
        "id": "u-IeYQAV0sYB"
      }
    },
    {
      "cell_type": "markdown",
      "source": [
        "# **Project Summary -**"
      ],
      "metadata": {
        "id": "FJNUwmbgGyua"
      }
    },
    {
      "cell_type": "markdown",
      "source": [
        "\n",
        "**Objective:**\n",
        "\n",
        "The primary objective of this project is to develop a regression model that accurately predicts the demand for bike sharing based on various factors. By leveraging features such as date, time, weather conditions, and seasonal variations, the model aims to provide insights into the number of bikes rented per hour. The ultimate goal is to optimize bike availability, enhance user experience, and improve operational efficiency for the bike-sharing service.\n",
        "\n",
        "**Dataset:**\n",
        "The dataset comprises the following key features:\n",
        "\n",
        "Date: Recorded in the format year-month-day.\n",
        "\n",
        "Rented Bike Count: The count of bikes rented at each hour, serving as the\n",
        "target variable.\n",
        "\n",
        "Hour: The hour of the day.\n",
        "\n",
        "Temperature: Temperature in Celsius.\n",
        "\n",
        "Humidity: Percentage of humidity.\n",
        "\n",
        "Windspeed: Wind speed in m/s.\n",
        "\n",
        "Visibility: Visibility in meters.\n",
        "\n",
        "Dew Point Temperature: Dew point temperature in Celsius.\n",
        "\n",
        "Solar Radiation: Solar radiation in MJ/m2.\n",
        "\n",
        "Rainfall: Amount of rainfall in mm.\n",
        "\n",
        "Snowfall: Amount of snowfall in cm.\n",
        "\n",
        "Seasons: Categorical variable representing Winter, Spring, Summer, or Autumn.\n",
        "\n",
        "Holiday: Binary indicator for holiday or no holiday.\n",
        "\n",
        "Functional Day: Binary indicator for functional (Functional hours) or non-functional (Non Functional Hours) day.\n",
        "\n",
        "**Data Preprocessing:**\n",
        "\n",
        "**1.Date Handling:**\n",
        "\n",
        "Extract day, month, and year from the 'Date' column.\n",
        "\n",
        "**2.Categorical Encoding:**\n",
        "\n",
        "Encode categorical variables like 'Seasons' using one-hot encoding or label encoding.\n",
        "Encode binary categorical variables 'Holiday' and 'Functional Day' as 0 or 1.\n",
        "\n",
        "**3.Missing Values:**\n",
        "\n",
        "Check for and handle missing values in the dataset."
      ],
      "metadata": {
        "id": "F6v_1wHtG2nS"
      }
    },
    {
      "cell_type": "markdown",
      "source": [
        "# **GitHub Link -**"
      ],
      "metadata": {
        "id": "w6K7xa23Elo4"
      }
    },
    {
      "cell_type": "markdown",
      "source": [
        "https://github.com/Rajat123-mittal/Regression---Bike-Sharing-Demand-Prediction/upload/main"
      ],
      "metadata": {
        "id": "h1o69JH3Eqqn"
      }
    },
    {
      "cell_type": "markdown",
      "source": [
        "# **Problem Statement**\n"
      ],
      "metadata": {
        "id": "yQaldy8SH6Dl"
      }
    },
    {
      "cell_type": "markdown",
      "source": [
        "Currently Rental bikes are introduced in many urban cities for the enhancement of mobility comfort. It is important to make the rental bike available and accessible to the public at the right time as it lessens the waiting time. Eventually, providing the city with a stable supply of rental bikes becomes a major concern. The crucial part is the prediction of bike count required at each hour for the stable supply of rental bikes."
      ],
      "metadata": {
        "id": "DpeJGUA3kjGy"
      }
    },
    {
      "cell_type": "markdown",
      "source": [
        "# **General Guidelines** : -  "
      ],
      "metadata": {
        "id": "mDgbUHAGgjLW"
      }
    },
    {
      "cell_type": "markdown",
      "source": [
        "1.   Well-structured, formatted, and commented code is required.\n",
        "2.   Exception Handling, Production Grade Code & Deployment Ready Code will be a plus. Those students will be awarded some additional credits.\n",
        "     \n",
        "     The additional credits will have advantages over other students during Star Student selection.\n",
        "       \n",
        "             [ Note: - Deployment Ready Code is defined as, the whole .ipynb notebook should be executable in one go\n",
        "                       without a single error logged. ]\n",
        "\n",
        "3.   Each and every logic should have proper comments.\n",
        "4. You may add as many number of charts you want. Make Sure for each and every chart the following format should be answered.\n",
        "        \n",
        "\n",
        "```\n",
        "# Chart visualization code\n",
        "```\n",
        "            \n",
        "\n",
        "*   Why did you pick the specific chart?\n",
        "*   What is/are the insight(s) found from the chart?\n",
        "* Will the gained insights help creating a positive business impact?\n",
        "Are there any insights that lead to negative growth? Justify with specific reason.\n",
        "\n",
        "5. You have to create at least 15 logical & meaningful charts having important insights.\n",
        "\n",
        "\n",
        "[ Hints : - Do the Vizualization in  a structured way while following \"UBM\" Rule.\n",
        "\n",
        "U - Univariate Analysis,\n",
        "\n",
        "B - Bivariate Analysis (Numerical - Categorical, Numerical - Numerical, Categorical - Categorical)\n",
        "\n",
        "M - Multivariate Analysis\n",
        " ]\n",
        "\n",
        "\n",
        "\n",
        "\n",
        "\n",
        "6. You may add more ml algorithms for model creation. Make sure for each and every algorithm, the following format should be answered.\n",
        "\n",
        "\n",
        "*   Explain the ML Model used and it's performance using Evaluation metric Score Chart.\n",
        "\n",
        "\n",
        "*   Cross- Validation & Hyperparameter Tuning\n",
        "\n",
        "*   Have you seen any improvement? Note down the improvement with updates Evaluation metric Score Chart.\n",
        "\n",
        "*   Explain each evaluation metric's indication towards business and the business impact pf the ML model used.\n",
        "\n",
        "\n",
        "\n",
        "\n",
        "\n",
        "\n",
        "\n",
        "\n",
        "\n",
        "\n",
        "\n",
        "\n",
        "\n",
        "\n",
        "\n",
        "\n",
        "\n",
        "\n"
      ],
      "metadata": {
        "id": "ZrxVaUj-hHfC"
      }
    },
    {
      "cell_type": "markdown",
      "source": [
        "# ***Let's Begin !***"
      ],
      "metadata": {
        "id": "O_i_v8NEhb9l"
      }
    },
    {
      "cell_type": "markdown",
      "source": [
        "## ***1. Know Your Data***"
      ],
      "metadata": {
        "id": "HhfV-JJviCcP"
      }
    },
    {
      "cell_type": "markdown",
      "source": [
        "### Import Libraries"
      ],
      "metadata": {
        "id": "Y3lxredqlCYt"
      }
    },
    {
      "cell_type": "code",
      "source": [
        "# Import Libraries\n",
        "import pandas as pd\n",
        "import numpy as np\n",
        "import matplotlib.pyplot as plt\n",
        "%matplotlib inline\n",
        "import seaborn as sns\n",
        "\n",
        "from datetime import datetime\n",
        "import datetime as dt\n",
        "\n",
        "from sklearn.preprocessing import MinMaxScaler\n",
        "from sklearn.preprocessing import OneHotEncoder\n",
        "from sklearn.preprocessing import MultiLabelBinarizer\n",
        "\n",
        "from sklearn.linear_model import LinearRegression\n",
        "from sklearn.linear_model import Lasso\n",
        "from sklearn.linear_model import Ridge\n",
        "from sklearn.linear_model import ElasticNet\n",
        "from sklearn.tree import DecisionTreeRegressor\n",
        "from sklearn.ensemble import RandomForestRegressor\n",
        "from sklearn.ensemble import GradientBoostingRegressor\n",
        "\n",
        "from sklearn.model_selection import cross_validate\n",
        "from sklearn.model_selection import train_test_split\n",
        "from sklearn.model_selection import GridSearchCV\n",
        "from sklearn.model_selection import cross_val_score\n",
        "from sklearn.model_selection import RepeatedStratifiedKFold\n",
        "from sklearn.model_selection import RandomizedSearchCV\n",
        "from sklearn.preprocessing import StandardScaler\n",
        "\n",
        "from sklearn import metrics\n",
        "from sklearn.metrics import r2_score\n",
        "from sklearn.metrics import mean_squared_error\n",
        "from sklearn.metrics import accuracy_score\n",
        "from sklearn.metrics import mean_absolute_error\n",
        "from sklearn.metrics import log_loss\n",
        "\n",
        "import warnings\n",
        "warnings.filterwarnings('ignore')\n"
      ],
      "metadata": {
        "id": "M8Vqi-pPk-HR"
      },
      "execution_count": null,
      "outputs": []
    },
    {
      "cell_type": "markdown",
      "source": [
        "### Dataset Loading"
      ],
      "metadata": {
        "id": "3RnN4peoiCZX"
      }
    },
    {
      "cell_type": "code",
      "source": [
        "# Load Dataset\n",
        "from google.colab import drive\n",
        "drive.mount('/content/drive')\n",
        "bike_sharing_df = pd.read_csv('/content/drive/MyDrive/ML Project/SeoulBikeData.csv', encoding= 'unicode_escape')\n"
      ],
      "metadata": {
        "id": "4CkvbW_SlZ_R"
      },
      "execution_count": null,
      "outputs": []
    },
    {
      "cell_type": "markdown",
      "source": [
        "### Dataset First View"
      ],
      "metadata": {
        "id": "x71ZqKXriCWQ"
      }
    },
    {
      "cell_type": "code",
      "source": [
        "# Dataset First Look\n",
        "bike_sharing_df.head()"
      ],
      "metadata": {
        "id": "LWNFOSvLl09H"
      },
      "execution_count": null,
      "outputs": []
    },
    {
      "cell_type": "markdown",
      "source": [
        "### Dataset Rows & Columns count"
      ],
      "metadata": {
        "id": "7hBIi_osiCS2"
      }
    },
    {
      "cell_type": "code",
      "source": [
        "# Dataset Rows & Columns count\n",
        "bike_sharing_df.shape"
      ],
      "metadata": {
        "id": "Kllu7SJgmLij"
      },
      "execution_count": null,
      "outputs": []
    },
    {
      "cell_type": "markdown",
      "source": [
        "### Dataset Information"
      ],
      "metadata": {
        "id": "JlHwYmJAmNHm"
      }
    },
    {
      "cell_type": "code",
      "source": [
        "# Dataset Info\n",
        "bike_sharing_df.info()"
      ],
      "metadata": {
        "id": "e9hRXRi6meOf"
      },
      "execution_count": null,
      "outputs": []
    },
    {
      "cell_type": "markdown",
      "source": [
        "#### Duplicate Values"
      ],
      "metadata": {
        "id": "35m5QtbWiB9F"
      }
    },
    {
      "cell_type": "code",
      "source": [
        "# Dataset Duplicate Value Count\n",
        "duplicate_count = bike_sharing_df.duplicated().sum()\n",
        "\n",
        "print(f\"Number of duplicate rows: {duplicate_count}\")"
      ],
      "metadata": {
        "id": "1sLdpKYkmox0"
      },
      "execution_count": null,
      "outputs": []
    },
    {
      "cell_type": "markdown",
      "source": [
        "#### Missing Values/Null Values"
      ],
      "metadata": {
        "id": "PoPl-ycgm1ru"
      }
    },
    {
      "cell_type": "code",
      "source": [
        "# Missing Values/Null Values Count\n",
        "missing_values_count = bike_sharing_df.isnull().sum()\n",
        "\n",
        "print(\"Missing values per column:\")\n",
        "print(missing_values_count)"
      ],
      "metadata": {
        "id": "GgHWkxvamxVg"
      },
      "execution_count": null,
      "outputs": []
    },
    {
      "cell_type": "code",
      "source": [
        "# Visualizing the missing values\n",
        "import seaborn as sns\n",
        "import matplotlib.pyplot as plt\n",
        "\n",
        "# Create a heatmap of missing values\n",
        "plt.figure(figsize=(10, 6))\n",
        "sns.heatmap(bike_sharing_df.isnull(), cmap='viridis', cbar=False, yticklabels=False)\n",
        "\n",
        "plt.title('Missing Values Heatmap')\n",
        "plt.show()\n"
      ],
      "metadata": {
        "id": "3q5wnI3om9sJ"
      },
      "execution_count": null,
      "outputs": []
    },
    {
      "cell_type": "markdown",
      "source": [
        "### What did you know about your dataset?"
      ],
      "metadata": {
        "id": "H0kj-8xxnORC"
      }
    },
    {
      "cell_type": "markdown",
      "source": [
        "The above dataset has 8760 rows and 14 columns. There are no mising values and duplicate values in the dataset."
      ],
      "metadata": {
        "id": "gfoNAAC-nUe_"
      }
    },
    {
      "cell_type": "markdown",
      "source": [
        "## ***2. Understanding Your Variables***"
      ],
      "metadata": {
        "id": "nA9Y7ga8ng1Z"
      }
    },
    {
      "cell_type": "code",
      "source": [
        "# Dataset Columns\n",
        "bike_sharing_df.columns"
      ],
      "metadata": {
        "id": "j7xfkqrt5Ag5"
      },
      "execution_count": null,
      "outputs": []
    },
    {
      "cell_type": "code",
      "source": [
        "# Dataset Describe\n",
        "bike_sharing_df.describe()"
      ],
      "metadata": {
        "id": "DnOaZdaE5Q5t"
      },
      "execution_count": null,
      "outputs": []
    },
    {
      "cell_type": "markdown",
      "source": [
        "### Variables Description"
      ],
      "metadata": {
        "id": "PBTbrJXOngz2"
      }
    },
    {
      "cell_type": "markdown",
      "source": [
        "![image.png](data:image/png;base64,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)"
      ],
      "metadata": {
        "id": "aJV4KIxSnxay"
      }
    },
    {
      "cell_type": "markdown",
      "source": [
        "### Check Unique Values for each variable."
      ],
      "metadata": {
        "id": "u3PMJOP6ngxN"
      }
    },
    {
      "cell_type": "code",
      "source": [
        "# Check Unique Values for each variable.\n",
        "for column in bike_sharing_df.columns:\n",
        "    unique_values = bike_sharing_df[column].unique()\n",
        "    print(f\"Unique values for {column}:\\n{unique_values}\\n\")"
      ],
      "metadata": {
        "id": "zms12Yq5n-jE"
      },
      "execution_count": null,
      "outputs": []
    },
    {
      "cell_type": "markdown",
      "source": [
        "## 3. ***Data Wrangling***"
      ],
      "metadata": {
        "id": "dauF4eBmngu3"
      }
    },
    {
      "cell_type": "markdown",
      "source": [
        "### Data Wrangling Code"
      ],
      "metadata": {
        "id": "bKJF3rekwFvQ"
      }
    },
    {
      "cell_type": "code",
      "source": [
        "# Before doing any data wrangling lets create copy of the dataset\n",
        "data_2 = bike_sharing_df.copy()"
      ],
      "metadata": {
        "id": "wk-9a2fpoLcV"
      },
      "execution_count": null,
      "outputs": []
    },
    {
      "cell_type": "code",
      "source": [
        "# Renaming the columns\n",
        "data_2.rename(columns= {'Date':'date','Rented Bike Count': 'rented_bike_count', 'Hour':'hour',\n",
        "                    'Temperature(°C)':'temperature', 'Humidity(%)':'humidity',\n",
        "                    'Wind speed (m/s)': 'wind_speed', 'Visibility (10m)': 'visibility',\n",
        "                    'Dew point temperature(°C)':'dew_point_temp',\n",
        "                    'Solar Radiation (MJ/m2)': 'solar_radiation', 'Rainfall(mm)': 'rainfall',\n",
        "                    'Snowfall (cm)':'snowfall', 'Seasons':'seasons',\n",
        "                    'Holiday':'holiday', 'Functioning Day':'func_day'},\n",
        "          inplace=True)"
      ],
      "metadata": {
        "id": "9KuVLLhND4xi"
      },
      "execution_count": null,
      "outputs": []
    },
    {
      "cell_type": "code",
      "source": [
        "data_2.columns"
      ],
      "metadata": {
        "id": "t8huJG01ECjw"
      },
      "execution_count": null,
      "outputs": []
    },
    {
      "cell_type": "code",
      "source": [
        "from datetime import datetime\n",
        "\n",
        "# converting date variable into datetime datatype\n",
        "data_2['date'] = data_2['date'].apply(lambda x: datetime.strptime(x, '%d/%m/%Y'))\n"
      ],
      "metadata": {
        "id": "KLtSsiUYNQDq"
      },
      "execution_count": null,
      "outputs": []
    },
    {
      "cell_type": "code",
      "source": [
        "# Creating new columns for day and month\n",
        "data_2['month'] = data_2['date'].apply(lambda x : x.month)\n",
        "data_2['day_of_week'] = data_2['date'].apply(lambda x : x.isoweekday())"
      ],
      "metadata": {
        "id": "4TTaI1nJNQfs"
      },
      "execution_count": null,
      "outputs": []
    },
    {
      "cell_type": "code",
      "source": [
        "# engineering new feature 'weekend' from day_of_week\n",
        "data_2['weekend'] = data_2['day_of_week'].apply(lambda x: 1 if x>5 else 0)"
      ],
      "metadata": {
        "id": "_VsIcHyoNRBp"
      },
      "execution_count": null,
      "outputs": []
    },
    {
      "cell_type": "code",
      "source": [
        "data_2.head()"
      ],
      "metadata": {
        "id": "KmiGLSmYNRde"
      },
      "execution_count": null,
      "outputs": []
    },
    {
      "cell_type": "code",
      "source": [
        "# Describe New Dataset\n",
        "data_2.describe(include='all').round(2)"
      ],
      "metadata": {
        "id": "7sVjS1y3Pg7m"
      },
      "execution_count": null,
      "outputs": []
    },
    {
      "cell_type": "code",
      "source": [
        "# defining continuous independent variables separately\n",
        "cont_var = ['temperature', 'humidity', 'wind_speed', 'visibility', 'dew_point_temp','solar_radiation', 'rainfall', 'snowfall']"
      ],
      "metadata": {
        "id": "rImyCp3ZPwqf"
      },
      "execution_count": null,
      "outputs": []
    },
    {
      "cell_type": "code",
      "source": [
        "# defining dependent variable\n",
        "dependent_variable = ['rented_bike_count']"
      ],
      "metadata": {
        "id": "ZXVszygKPxHq"
      },
      "execution_count": null,
      "outputs": []
    },
    {
      "cell_type": "code",
      "source": [
        "#defining categorical independent variables separately\n",
        "cat_var = ['hour','seasons', 'holiday', 'func_day', 'month', 'day_of_week', 'weekend']"
      ],
      "metadata": {
        "id": "9dIU_WhNPxdX"
      },
      "execution_count": null,
      "outputs": []
    },
    {
      "cell_type": "markdown",
      "source": [
        "### What all manipulations have you done and insights you found?"
      ],
      "metadata": {
        "id": "MSa1f5Uengrz"
      }
    },
    {
      "cell_type": "markdown",
      "source": [
        "From the Date column, 'month' and 'day of the week' columns are created.\n",
        "\n",
        "From the 'day of the week' column, 'weekend' column is created where 6 and 7 are the weekends (Saturday and Sunday).\n",
        "\n",
        "We have also defined the continuous variables, dependent variable and categorical variables for ease of plotting graphs."
      ],
      "metadata": {
        "id": "LbyXE7I1olp8"
      }
    },
    {
      "cell_type": "markdown",
      "source": [
        "## ***4. Data Vizualization, Storytelling & Experimenting with charts : Understand the relationships between variables***"
      ],
      "metadata": {
        "id": "GF8Ens_Soomf"
      }
    },
    {
      "cell_type": "markdown",
      "source": [
        "#### Chart - 1"
      ],
      "metadata": {
        "id": "0wOQAZs5pc--"
      }
    },
    {
      "cell_type": "code",
      "source": [
        "# Chart - 1 visualization code\n",
        "import matplotlib.pyplot as plt\n",
        "\n",
        "# Set the style for the plot\n",
        "plt.style.use('seaborn')\n",
        "\n",
        "# Plot the histogram of 'Rented Bike Count'\n",
        "plt.figure(figsize=(10, 6))\n",
        "plt.hist(bike_sharing_df['Rented Bike Count'], bins=30, color='skyblue', edgecolor='black')\n",
        "plt.title('Distribution of Rented Bike Count')\n",
        "plt.xlabel('Rented Bike Count')\n",
        "plt.ylabel('Frequency')\n",
        "plt.grid(axis='y', linestyle='--', alpha=0.7)\n",
        "plt.show()"
      ],
      "metadata": {
        "id": "7v_ESjsspbW7"
      },
      "execution_count": null,
      "outputs": []
    },
    {
      "cell_type": "markdown",
      "source": [
        "##### 1. Why did you pick the specific chart?"
      ],
      "metadata": {
        "id": "K5QZ13OEpz2H"
      }
    },
    {
      "cell_type": "markdown",
      "source": [
        "Histograms provide a clear representation of the central tendency, spread, and shape of the distribution. This is valuable when exploring variables like 'Rented Bike Count' because it allows us to identify patterns such as whether the distribution is skewed, symmetrical, or exhibits multiple peaks."
      ],
      "metadata": {
        "id": "XESiWehPqBRc"
      }
    },
    {
      "cell_type": "markdown",
      "source": [
        "##### 2. What is/are the insight(s) found from the chart?"
      ],
      "metadata": {
        "id": "lQ7QKXXCp7Bj"
      }
    },
    {
      "cell_type": "markdown",
      "source": [
        "\n",
        "From the histogram depicting the distribution of the 'Rented Bike Count,' several insights can be gleaned:\n",
        "\n",
        "1.Distribution Shape\n",
        "\n",
        "2.Common Rented Bike Counts\n",
        "\n",
        "3.Outliers\n",
        "\n",
        "4.Resource Allocation"
      ],
      "metadata": {
        "id": "C_j1G7yiqdRP"
      }
    },
    {
      "cell_type": "markdown",
      "source": [
        "##### 3. Will the gained insights help creating a positive business impact?\n",
        "Are there any insights that lead to negative growth? Justify with specific reason."
      ],
      "metadata": {
        "id": "448CDAPjqfQr"
      }
    },
    {
      "cell_type": "markdown",
      "source": [
        "\n",
        "The insights derived from the histogram of 'Rented Bike Count' have the potential to positively impact the bike-sharing business. Understanding the distribution's right-skewed shape indicates that the service provider can optimize resources and operational planning by aligning the number of available bikes with typical demand. This optimization can lead to cost savings, improved efficiency, and enhanced customer satisfaction as bikes are more readily available during peak demand periods. The identification of outliers prompts further exploration into unusual demand patterns, offering an opportunity to capitalize on special events or address unexpected circumstances that might lead to negative growth if not appropriately managed. While the skewed distribution suggests a prevalence of lower bike counts, strategies to stimulate demand during off-peak periods can mitigate potential negative impacts. Seasonal variation insights provide a basis for targeted marketing or service enhancements to address variations in demand."
      ],
      "metadata": {
        "id": "3cspy4FjqxJW"
      }
    },
    {
      "cell_type": "markdown",
      "source": [
        "#### Chart - 2"
      ],
      "metadata": {
        "id": "KSlN3yHqYklG"
      }
    },
    {
      "cell_type": "code",
      "source": [
        "# Chart - 2 visualization code\n",
        "\n",
        "import seaborn as sns\n",
        "import matplotlib.pyplot as plt\n",
        "\n",
        "# Set the style for the plot\n",
        "sns.set(style=\"whitegrid\")\n",
        "\n",
        "# Plot the average 'Rented Bike Count' for each season\n",
        "plt.figure(figsize=(10, 6))\n",
        "sns.barplot(x='Seasons', y='Rented Bike Count', data=bike_sharing_df, ci=None, palette='viridis')\n",
        "plt.title('Average Rented Bike Count by Season')\n",
        "plt.xlabel('Season')\n",
        "plt.ylabel('Average Rented Bike Count')\n",
        "plt.show()\n"
      ],
      "metadata": {
        "id": "R4YgtaqtYklH"
      },
      "execution_count": null,
      "outputs": []
    },
    {
      "cell_type": "markdown",
      "source": [
        "##### 1. Why did you pick the specific chart?"
      ],
      "metadata": {
        "id": "t6dVpIINYklI"
      }
    },
    {
      "cell_type": "markdown",
      "source": [
        "The choice of a bar chart for visualizing the average number of rented bikes across different seasons is driven by several considerations. Firstly, bar charts are particularly well-suited for comparing values among distinct categories or groups, making them an ideal choice for illustrating variations across seasons. In this context, each bar in the chart represents a specific season, allowing for a straightforward visual comparison of average bike counts."
      ],
      "metadata": {
        "id": "5aaW0BYyYklI"
      }
    },
    {
      "cell_type": "markdown",
      "source": [
        "##### 2. What is/are the insight(s) found from the chart?"
      ],
      "metadata": {
        "id": "ijmpgYnKYklI"
      }
    },
    {
      "cell_type": "markdown",
      "source": [
        "The bar chart depicting the average number of rented bikes across different seasons provides valuable insights into the variations in bike rentals throughout the year. One notable observation is the apparent spike in average bike counts during the 'Autumn' season, suggesting a higher demand for bike rentals during this time. This insight can inform business strategies, enabling the service provider to allocate resources more effectively to meet increased demand during the autumn months."
      ],
      "metadata": {
        "id": "PSx9atu2YklI"
      }
    },
    {
      "cell_type": "markdown",
      "source": [
        "##### 3. Will the gained insights help creating a positive business impact?\n",
        "Are there any insights that lead to negative growth? Justify with specific reason."
      ],
      "metadata": {
        "id": "-JiQyfWJYklI"
      }
    },
    {
      "cell_type": "markdown",
      "source": [
        "Answer Here"
      ],
      "metadata": {
        "id": "BcBbebzrYklV"
      }
    },
    {
      "cell_type": "markdown",
      "source": [
        "#### Chart - 3"
      ],
      "metadata": {
        "id": "EM7whBJCYoAo"
      }
    },
    {
      "cell_type": "code",
      "source": [
        "# Chart - 3 visualization code\n",
        "fig, ax = plt.subplots(figsize=(10, 8))\n",
        "sns.barplot(data=bike_sharing_df, x='Functioning Day', y='Rented Bike Count', ax=ax, capsize=.2)\n",
        "ax.set(title='Count of Rented bikes according to Functional Day')\n"
      ],
      "metadata": {
        "id": "t6GMdE67YoAp"
      },
      "execution_count": null,
      "outputs": []
    },
    {
      "cell_type": "markdown",
      "source": [
        "##### 1. Why did you pick the specific chart?"
      ],
      "metadata": {
        "id": "fge-S5ZAYoAp"
      }
    },
    {
      "cell_type": "markdown",
      "source": [
        "The bar plot was chosen for its effectiveness in visually comparing the count of rented bikes across different categories of the categorical variable \"Functional Day.\" This choice allows for a clear representation of the distribution of bike rentals on both functional and non-functional days, providing insights into rental patterns based on the day's functionality."
      ],
      "metadata": {
        "id": "5dBItgRVYoAp"
      }
    },
    {
      "cell_type": "markdown",
      "source": [
        "##### 2. What is/are the insight(s) found from the chart?"
      ],
      "metadata": {
        "id": "85gYPyotYoAp"
      }
    },
    {
      "cell_type": "markdown",
      "source": [
        "The insights derived from the chart comparing the count of rented bikes on functional and non-functional days reveal potential variations in demand patterns. Significant differences in rental counts suggest that the demand for bikes fluctuates based on the functionality of the day. Identifying peak rental days and understanding these patterns can guide operational decisions, such as resource allocation and staffing."
      ],
      "metadata": {
        "id": "4jstXR6OYoAp"
      }
    },
    {
      "cell_type": "markdown",
      "source": [
        "##### 3. Will the gained insights help creating a positive business impact?\n",
        "Are there any insights that lead to negative growth? Justify with specific reason."
      ],
      "metadata": {
        "id": "RoGjAbkUYoAp"
      }
    },
    {
      "cell_type": "markdown",
      "source": [
        "Yes, the insights gained from the chart comparing rented bike counts on functional and non-functional days can potentially lead to a positive business impact. Understanding variations in demand patterns allows for more informed operational decisions, enabling businesses to allocate resources efficiently, optimize staffing levels, and enhance overall operational planning. Identifying peak rental days provides an opportunity to capitalize on high-demand periods, potentially leading to increased revenue."
      ],
      "metadata": {
        "id": "zfJ8IqMcYoAp"
      }
    },
    {
      "cell_type": "markdown",
      "source": [
        "#### Chart - 4"
      ],
      "metadata": {
        "id": "4Of9eVA-YrdM"
      }
    },
    {
      "cell_type": "code",
      "source": [
        "# Chart - 4 visualization code\n",
        "# Import necessary libraries for visualization\n",
        "import seaborn as sns\n",
        "import matplotlib.pyplot as plt\n",
        "\n",
        "# Set the style for the plot\n",
        "sns.set(style=\"whitegrid\")\n",
        "\n",
        "# Create a boxplot to visualize the distribution of 'Rented Bike Count' across seasons\n",
        "plt.figure(figsize=(10, 6))\n",
        "sns.boxplot(x='Seasons', y='Rented Bike Count', data=bike_sharing_df, palette='Set2')\n",
        "plt.title('Distribution of Rented Bike Count Across Seasons')\n",
        "plt.xlabel('Season')\n",
        "plt.ylabel('Rented Bike Count')\n",
        "plt.show()\n"
      ],
      "metadata": {
        "id": "irlUoxc8YrdO"
      },
      "execution_count": null,
      "outputs": []
    },
    {
      "cell_type": "markdown",
      "source": [
        "##### 1. Why did you pick the specific chart?"
      ],
      "metadata": {
        "id": "iky9q4vBYrdO"
      }
    },
    {
      "cell_type": "markdown",
      "source": [
        "I chose a boxplot for the fourth visualization to gain insights into the distribution of 'Rented Bike Count' across different seasons. Boxplots are effective for visually summarizing the central tendency, variability, and presence of outliers in a dataset. By comparing the distribution of bike rentals in each season, the boxplot allows for a quick assessment of the range and variability of demand during different times of the year. This type of visualization is particularly valuable for identifying seasonal trends and potential outliers, aiding in resource allocation and operational planning for the bike-sharing service."
      ],
      "metadata": {
        "id": "aJRCwT6DYrdO"
      }
    },
    {
      "cell_type": "markdown",
      "source": [
        "##### 2. What is/are the insight(s) found from the chart?"
      ],
      "metadata": {
        "id": "F6T5p64dYrdO"
      }
    },
    {
      "cell_type": "markdown",
      "source": [
        "The boxplot reveals insightful information about the distribution of 'Rented Bike Count' across seasons. Notably, it highlights the significant variability in bike rentals during different seasons. The 'Autumn' season exhibits a wider interquartile range, indicating greater variability in demand, while 'Winter' displays a narrower range with potential outliers suggesting consistent demand patterns."
      ],
      "metadata": {
        "id": "Xx8WAJvtYrdO"
      }
    },
    {
      "cell_type": "markdown",
      "source": [
        "##### 3. Will the gained insights help creating a positive business impact?\n",
        "Are there any insights that lead to negative growth? Justify with specific reason."
      ],
      "metadata": {
        "id": "y-Ehk30pYrdP"
      }
    },
    {
      "cell_type": "markdown",
      "source": [
        "The insights gained from the boxplot can contribute to positive business impact by informing strategic decisions in resource allocation and operational planning based on seasonal variations in bike rentals. Understanding the variability and demand patterns across seasons allows for more targeted marketing efforts and optimized inventory management. However, if there are extreme outliers in certain seasons, such as unexpectedly low demand in 'Spring,' it could potentially lead to negative growth if not addressed."
      ],
      "metadata": {
        "id": "jLNxxz7MYrdP"
      }
    },
    {
      "cell_type": "markdown",
      "source": [
        "#### Chart - 5"
      ],
      "metadata": {
        "id": "bamQiAODYuh1"
      }
    },
    {
      "cell_type": "code",
      "source": [
        "# Chart - 5 visualization code\n",
        "fig,ax=plt.subplots(figsize=(20,8))\n",
        "sns.pointplot(data=bike_sharing_df,x='Hour',y='Rented Bike Count',hue='Functioning Day',ax=ax)\n",
        "ax.set(title='Count of Rented bikes acording to Functioning Day ')\n"
      ],
      "metadata": {
        "id": "TIJwrbroYuh3"
      },
      "execution_count": null,
      "outputs": []
    },
    {
      "cell_type": "markdown",
      "source": [
        "##### 1. Why did you pick the specific chart?"
      ],
      "metadata": {
        "id": "QHF8YVU7Yuh3"
      }
    },
    {
      "cell_type": "markdown",
      "source": [
        "I chose the pointplot from seaborn because it effectively conveys the hourly trends in rented bike counts while considering the categorical variable of functioning days."
      ],
      "metadata": {
        "id": "dcxuIMRPYuh3"
      }
    },
    {
      "cell_type": "markdown",
      "source": [
        "##### 2. What is/are the insight(s) found from the chart?"
      ],
      "metadata": {
        "id": "GwzvFGzlYuh3"
      }
    },
    {
      "cell_type": "markdown",
      "source": [
        "Peoples dont use reneted bikes in no functioning day."
      ],
      "metadata": {
        "id": "uyqkiB8YYuh3"
      }
    },
    {
      "cell_type": "markdown",
      "source": [
        "##### 3. Will the gained insights help creating a positive business impact?\n",
        "Are there any insights that lead to negative growth? Justify with specific reason."
      ],
      "metadata": {
        "id": "qYpmQ266Yuh3"
      }
    },
    {
      "cell_type": "markdown",
      "source": [
        "\n",
        "The insights gained from the chart, such as understanding hourly rental patterns and the impact of functioning days, can have a positive business impact for a bike-sharing service. This information allows the business to optimize bike availability during peak hours, strategically allocate resources, develop targeted promotional strategies, enhance the overall user experience, and make informed, data-driven decisions. By aligning operational strategies with user behavior, the bike-sharing service can improve customer satisfaction, attract new users, and drive positive business outcomes."
      ],
      "metadata": {
        "id": "_WtzZ_hCYuh4"
      }
    },
    {
      "cell_type": "markdown",
      "source": [
        "#### Chart - 6"
      ],
      "metadata": {
        "id": "OH-pJp9IphqM"
      }
    },
    {
      "cell_type": "code",
      "source": [
        "# Chart - 6 visualization code\n",
        "# Import necessary libraries for visualization\n",
        "import seaborn as sns\n",
        "import matplotlib.pyplot as plt\n",
        "\n",
        "# Set the style for the plot\n",
        "sns.set(style=\"whitegrid\")\n",
        "\n",
        "# Create a bar chart to visualize the average 'Rented Bike Count' across hours\n",
        "plt.figure(figsize=(12, 6))\n",
        "sns.barplot(x='Hour', y='Rented Bike Count', data=bike_sharing_df, ci=None, palette='viridis')\n",
        "plt.title('Average Rented Bike Count Across Hours of the Day')\n",
        "plt.xlabel('Hour of the Day')\n",
        "plt.ylabel('Average Rented Bike Count')\n",
        "plt.show()"
      ],
      "metadata": {
        "id": "kuRf4wtuphqN"
      },
      "execution_count": null,
      "outputs": []
    },
    {
      "cell_type": "markdown",
      "source": [
        "##### 1. Why did you pick the specific chart?"
      ],
      "metadata": {
        "id": "bbFf2-_FphqN"
      }
    },
    {
      "cell_type": "markdown",
      "source": [
        "I chose a bar chart for visualizing the average 'Rented Bike Count' across different hours of the day because it is effective in displaying variations in a continuous numerical variable (bike count) across distinct categories (hours). A bar chart is well-suited for this scenario as it allows for a clear comparison of average bike rentals during different times, making it easy to identify peak hours and trends."
      ],
      "metadata": {
        "id": "loh7H2nzphqN"
      }
    },
    {
      "cell_type": "markdown",
      "source": [
        "##### 2. What is/are the insight(s) found from the chart?"
      ],
      "metadata": {
        "id": "_ouA3fa0phqN"
      }
    },
    {
      "cell_type": "markdown",
      "source": [
        "The bar chart depicting the average 'Rented Bike Count' across different hours of the day provides valuable insights into the temporal patterns of bike-sharing demand. A clear peak is observed during the late afternoon and early evening hours, particularly around 18:00 (6:00 PM). This indicates a significant surge in bike rentals during this time, possibly coinciding with the end of the typical workday when individuals may be commuting or engaging in recreational activities."
      ],
      "metadata": {
        "id": "VECbqPI7phqN"
      }
    },
    {
      "cell_type": "markdown",
      "source": [
        "##### 3. Will the gained insights help creating a positive business impact?\n",
        "Are there any insights that lead to negative growth? Justify with specific reason."
      ],
      "metadata": {
        "id": "Seke61FWphqN"
      }
    },
    {
      "cell_type": "markdown",
      "source": [
        "The insights gained from the bar chart, highlighting peak hours of bike-sharing demand during the late afternoon and early evening, hold the potential to create a positive business impact. Understanding these temporal patterns allows the business to strategically allocate resources, optimize inventory levels, and enhance service availability during high-demand periods. This can lead to improved customer satisfaction, increased utilization of resources, and potentially higher revenue during peak hours."
      ],
      "metadata": {
        "id": "DW4_bGpfphqN"
      }
    },
    {
      "cell_type": "markdown",
      "source": [
        "#### Chart - 7"
      ],
      "metadata": {
        "id": "PIIx-8_IphqN"
      }
    },
    {
      "cell_type": "code",
      "source": [
        "# Chart - 7 visualization code\n",
        "# Import necessary libraries for visualization\n",
        "import matplotlib.pyplot as plt\n",
        "\n",
        "# Calculate the total bike count for each season\n",
        "season_counts = bike_sharing_df.groupby('Seasons')['Rented Bike Count'].sum()\n",
        "\n",
        "# Create a pie chart to visualize the proportion of bike rentals for different seasons\n",
        "plt.figure(figsize=(8, 8))\n",
        "plt.pie(season_counts, labels=season_counts.index, autopct='%1.1f%%', colors=['#ff9999','#66b3ff','#99ff99','#ffcc99'])\n",
        "plt.title('Proportion of Bike Rentals for Different Seasons')\n",
        "plt.show()\n"
      ],
      "metadata": {
        "id": "lqAIGUfyphqO"
      },
      "execution_count": null,
      "outputs": []
    },
    {
      "cell_type": "markdown",
      "source": [
        "##### 1. Why did you pick the specific chart?"
      ],
      "metadata": {
        "id": "t27r6nlMphqO"
      }
    },
    {
      "cell_type": "markdown",
      "source": [
        "I chose a pie chart to visualize the proportion of bike rentals for different seasons because it effectively represents the relative contribution of each season to the overall distribution of bike rentals. Pie charts are particularly suitable for displaying parts of a whole, making it easy to understand the composition of the data at a glance."
      ],
      "metadata": {
        "id": "iv6ro40sphqO"
      }
    },
    {
      "cell_type": "markdown",
      "source": [
        "##### 2. What is/are the insight(s) found from the chart?"
      ],
      "metadata": {
        "id": "r2jJGEOYphqO"
      }
    },
    {
      "cell_type": "markdown",
      "source": [
        "The pie chart provides valuable insights into the distribution of bike rentals across different seasons. Summer emerges as the dominant season, contributing the highest proportion to the overall bike rentals. This observation aligns with the anticipated trend of increased outdoor activities, including biking, during warmer weather. The relatively similar contributions of Fall and Spring suggest a moderate demand during transitional seasons, while Winter exhibits the lowest proportion, indicating reduced bike-sharing activity during colder months."
      ],
      "metadata": {
        "id": "Po6ZPi4hphqO"
      }
    },
    {
      "cell_type": "markdown",
      "source": [
        "##### 3. Will the gained insights help creating a positive business impact?\n",
        "Are there any insights that lead to negative growth? Justify with specific reason."
      ],
      "metadata": {
        "id": "b0JNsNcRphqO"
      }
    },
    {
      "cell_type": "markdown",
      "source": [
        "The insights from the pie chart, revealing the distribution of bike rentals across seasons, offer valuable opportunities for positive business impact. Understanding the seasonal variations allows for optimized resource allocation and targeted promotions during peak and off-peak periods. This strategic approach can enhance operational efficiency and customer engagement."
      ],
      "metadata": {
        "id": "xvSq8iUTphqO"
      }
    },
    {
      "cell_type": "markdown",
      "source": [
        "#### Chart - 8"
      ],
      "metadata": {
        "id": "BZR9WyysphqO"
      }
    },
    {
      "cell_type": "code",
      "source": [
        "# Chart - 8 visualization code\n",
        "# Import necessary libraries for visualization\n",
        "import seaborn as sns\n",
        "import matplotlib.pyplot as plt\n",
        "\n",
        "# Set the style for the plot\n",
        "sns.set(style=\"whitegrid\")\n",
        "\n",
        "# Create a scatter plot to visualize the relationship between 'Temperature(°C)' and 'Rented Bike Count'\n",
        "plt.figure(figsize=(10, 6))\n",
        "sns.scatterplot(x='Temperature(°C)', y='Rented Bike Count', data=bike_sharing_df, color='skyblue')\n",
        "plt.title('Relationship Between Temperature and Rented Bike Count')\n",
        "plt.xlabel('Temperature (°C)')\n",
        "plt.ylabel('Rented Bike Count')\n",
        "plt.show()\n"
      ],
      "metadata": {
        "id": "TdPTWpAVphqO"
      },
      "execution_count": null,
      "outputs": []
    },
    {
      "cell_type": "markdown",
      "source": [
        "##### 1. Why did you pick the specific chart?"
      ],
      "metadata": {
        "id": "jj7wYXLtphqO"
      }
    },
    {
      "cell_type": "markdown",
      "source": [
        "I chose a scatter plot to visualize the relationship between 'Temperature(°C)' and 'Rented Bike Count' because it is effective in displaying the correlation or pattern between two continuous variables. Scatter plots allow for the identification of trends, clusters, or outliers in the data, making them particularly suitable for exploring the potential impact of temperature on bike-sharing demand."
      ],
      "metadata": {
        "id": "Ob8u6rCTphqO"
      }
    },
    {
      "cell_type": "markdown",
      "source": [
        "##### 2. What is/are the insight(s) found from the chart?"
      ],
      "metadata": {
        "id": "eZrbJ2SmphqO"
      }
    },
    {
      "cell_type": "markdown",
      "source": [
        "The scatter plot depicting the relationship between 'Temperature(°C)' and 'Rented Bike Count' reveals a positive correlation between these two variables. As the temperature increases, there is a noticeable upward trend in bike rentals, indicating that warmer weather is associated with higher demand for bike-sharing services. This insight suggests that temperature plays a significant role in influencing user behavior, with people being more inclined to rent bikes during favorable weather conditions."
      ],
      "metadata": {
        "id": "mZtgC_hjphqO"
      }
    },
    {
      "cell_type": "markdown",
      "source": [
        "##### 3. Will the gained insights help creating a positive business impact?\n",
        "Are there any insights that lead to negative growth? Justify with specific reason."
      ],
      "metadata": {
        "id": "rFu4xreNphqO"
      }
    },
    {
      "cell_type": "markdown",
      "source": [
        "The insights offer avenues for positive impact, businesses must adopt a balanced approach. Diversifying strategies to accommodate variations in weather conditions and understanding the nuanced effects of temperature on user behavior will be key to maximizing positive outcomes and minimizing potential negative growth."
      ],
      "metadata": {
        "id": "ey_0qi68phqO"
      }
    },
    {
      "cell_type": "markdown",
      "source": [
        "#### Chart - 9"
      ],
      "metadata": {
        "id": "YJ55k-q6phqO"
      }
    },
    {
      "cell_type": "code",
      "source": [
        "# Chart - 9 visualization code\n",
        "# Import necessary libraries for visualization\n",
        "import seaborn as sns\n",
        "import matplotlib.pyplot as plt\n",
        "\n",
        "# Set the style for the plot\n",
        "sns.set(style=\"whitegrid\")\n",
        "\n",
        "# Create a line plot to visualize the trend in 'Rented Bike Count' over hours, segmented by 'Seasons'\n",
        "plt.figure(figsize=(12, 8))\n",
        "sns.lineplot(x='Hour', y='Rented Bike Count', hue='Seasons', data=bike_sharing_df, marker='o', palette='viridis')\n",
        "plt.title('Trend in Rented Bike Count Over Hours, Segmented by Seasons')\n",
        "plt.xlabel('Hour of the Day')\n",
        "plt.ylabel('Rented Bike Count')\n",
        "plt.legend(title='Seasons', loc='upper right')\n",
        "plt.show()\n"
      ],
      "metadata": {
        "id": "B2aS4O1ophqO"
      },
      "execution_count": null,
      "outputs": []
    },
    {
      "cell_type": "markdown",
      "source": [
        "##### 1. Why did you pick the specific chart?"
      ],
      "metadata": {
        "id": "gCFgpxoyphqP"
      }
    },
    {
      "cell_type": "markdown",
      "source": [
        "I choose a line plot to visualize the trend in 'Rented Bike Count' over different hours of the day, segmented by the 'Seasons' variable because it is effective in displaying temporal patterns and variations. Line plots are particularly suitable for illustrating trends over a continuous variable, in this case, hours of the day, while the use of different lines for each season allows for easy comparison between seasonal patterns."
      ],
      "metadata": {
        "id": "TVxDimi2phqP"
      }
    },
    {
      "cell_type": "markdown",
      "source": [
        "##### 2. What is/are the insight(s) found from the chart?"
      ],
      "metadata": {
        "id": "OVtJsKN_phqQ"
      }
    },
    {
      "cell_type": "markdown",
      "source": [
        "The line plot showcasing the trend in 'Rented Bike Count' over different hours of the day, segmented by seasons, reveals several key insights. During all seasons, there is a noticeable increase in bike rentals during daylight hours, particularly in the late morning and early afternoon. Summer exhibits the highest peak in demand, emphasizing a preference for bike rentals during warmer months."
      ],
      "metadata": {
        "id": "ngGi97qjphqQ"
      }
    },
    {
      "cell_type": "markdown",
      "source": [
        "##### 3. Will the gained insights help creating a positive business impact?\n",
        "Are there any insights that lead to negative growth? Justify with specific reason."
      ],
      "metadata": {
        "id": "lssrdh5qphqQ"
      }
    },
    {
      "cell_type": "markdown",
      "source": [
        "The insights from the line plot depicting the trend in 'Rented Bike Count' over different hours and seasons offer valuable opportunities for positive business impact. Understanding peak hours and seasonal variations enables businesses to optimize operational planning, ensuring adequate resources during high-demand periods. Tailoring marketing strategies to align with observed patterns can enhance customer engagement and satisfaction."
      ],
      "metadata": {
        "id": "tBpY5ekJphqQ"
      }
    },
    {
      "cell_type": "markdown",
      "source": [
        "#### Chart - 10"
      ],
      "metadata": {
        "id": "U2RJ9gkRphqQ"
      }
    },
    {
      "cell_type": "code",
      "source": [
        "# Chart - 10 visualization code\n",
        "# Import necessary libraries for visualization\n",
        "import seaborn as sns\n",
        "import matplotlib.pyplot as plt\n",
        "\n",
        "# Set the style for the plot\n",
        "sns.set(style=\"whitegrid\")\n",
        "\n",
        "# Create a bar plot to compare the average 'Rented Bike Count' during holidays and non-holidays\n",
        "plt.figure(figsize=(8, 6))\n",
        "sns.barplot(x='Holiday', y='Rented Bike Count', data=bike_sharing_df, ci=None, palette='Set2')\n",
        "plt.title('Average Rented Bike Count During Holidays and Non-Holidays')\n",
        "plt.xlabel('Holiday')\n",
        "plt.ylabel('Average Rented Bike Count')\n",
        "plt.show()\n"
      ],
      "metadata": {
        "id": "GM7a4YP4phqQ"
      },
      "execution_count": null,
      "outputs": []
    },
    {
      "cell_type": "markdown",
      "source": [
        "##### 1. Why did you pick the specific chart?"
      ],
      "metadata": {
        "id": "1M8mcRywphqQ"
      }
    },
    {
      "cell_type": "markdown",
      "source": [
        "I choose a bar plot to compare the average 'Rented Bike Count' during holidays and non-holidays because it is effective in illustrating and contrasting numerical values between two categories. Bar plots provide a clear visual representation of the average values for each category, making it easy to discern any significant differences in bike rentals during these distinct periods."
      ],
      "metadata": {
        "id": "8agQvks0phqQ"
      }
    },
    {
      "cell_type": "markdown",
      "source": [
        "##### 2. What is/are the insight(s) found from the chart?"
      ],
      "metadata": {
        "id": "tgIPom80phqQ"
      }
    },
    {
      "cell_type": "markdown",
      "source": [
        "The bar plot comparing the average 'Rented Bike Count' during holidays and non-holidays reveals a noteworthy insight. On average, there appears to be a higher demand for bike rentals on non-holiday days compared to holidays. This suggests that holidays may experience a reduction in bike-sharing activity, potentially due to altered travel patterns, reduced commuting needs, or alternative leisure activities."
      ],
      "metadata": {
        "id": "Qp13pnNzphqQ"
      }
    },
    {
      "cell_type": "markdown",
      "source": [
        "##### 3. Will the gained insights help creating a positive business impact?\n",
        "Are there any insights that lead to negative growth? Justify with specific reason."
      ],
      "metadata": {
        "id": "JMzcOPDDphqR"
      }
    },
    {
      "cell_type": "markdown",
      "source": [
        "The insights from the bar plot, indicating a higher average 'Rented Bike Count' on non-holidays compared to holidays, can indeed contribute to a positive business impact. Businesses can use this information to optimize resource allocation, ensuring sufficient bike availability and staffing during peak non-holiday periods."
      ],
      "metadata": {
        "id": "R4Ka1PC2phqR"
      }
    },
    {
      "cell_type": "markdown",
      "source": [
        "#### Chart - 11"
      ],
      "metadata": {
        "id": "x-EpHcCOp1ci"
      }
    },
    {
      "cell_type": "code",
      "source": [
        "# Chart - 11 visualization code\n",
        "# Import necessary libraries for visualization\n",
        "import seaborn as sns\n",
        "import matplotlib.pyplot as plt\n",
        "\n",
        "# Set the style for the plot\n",
        "sns.set(style=\"whitegrid\")\n",
        "\n",
        "# Create a swarm plot to visualize the distribution of 'Rented Bike Count' across seasons\n",
        "plt.figure(figsize=(10, 6))\n",
        "sns.swarmplot(x='Seasons', y='Rented Bike Count', data=bike_sharing_df, palette='pastel')\n",
        "plt.title('Distribution of Rented Bike Count Across Seasons')\n",
        "plt.xlabel('Seasons')\n",
        "plt.ylabel('Rented Bike Count')\n",
        "plt.show()\n"
      ],
      "metadata": {
        "id": "mAQTIvtqp1cj"
      },
      "execution_count": null,
      "outputs": []
    },
    {
      "cell_type": "markdown",
      "source": [
        "##### 1. Why did you pick the specific chart?"
      ],
      "metadata": {
        "id": "X_VqEhTip1ck"
      }
    },
    {
      "cell_type": "markdown",
      "source": [
        "I choose a swarm plot for visualizing the distribution of 'Rented Bike Count' across seasons because it provides a detailed view of individual data points within each category (season). Swarm plots are effective for highlighting the density and distribution of data, particularly in scenarios with categorical variables."
      ],
      "metadata": {
        "id": "-vsMzt_np1ck"
      }
    },
    {
      "cell_type": "markdown",
      "source": [
        "##### 2. What is/are the insight(s) found from the chart?"
      ],
      "metadata": {
        "id": "8zGJKyg5p1ck"
      }
    },
    {
      "cell_type": "markdown",
      "source": [
        "The swarm plot provides insights into the distribution of 'Rented Bike Count' across different seasons. Observing the individual data points reveals patterns and variations in bike-sharing demand within each season. For instance, it appears that during the Winter season, there are fewer instances of high bike counts compared to other seasons."
      ],
      "metadata": {
        "id": "ZYdMsrqVp1ck"
      }
    },
    {
      "cell_type": "markdown",
      "source": [
        "##### 3. Will the gained insights help creating a positive business impact?\n",
        "Are there any insights that lead to negative growth? Justify with specific reason."
      ],
      "metadata": {
        "id": "PVzmfK_Ep1ck"
      }
    },
    {
      "cell_type": "markdown",
      "source": [
        "The gained insights from the swarm plot can indeed contribute to a positive business impact. Understanding the distribution of 'Rented Bike Count' across seasons provides valuable information for optimizing operational strategies, resource allocation, and marketing efforts. For instance, identifying the higher variability in bike counts during Spring and Summer may prompt businesses to be more flexible in adjusting bike availability during peak demand periods."
      ],
      "metadata": {
        "id": "druuKYZpp1ck"
      }
    },
    {
      "cell_type": "markdown",
      "source": [
        "#### Chart - 12"
      ],
      "metadata": {
        "id": "n3dbpmDWp1ck"
      }
    },
    {
      "cell_type": "code",
      "source": [
        "# Chart - 12 visualization code\n",
        "plt.figure(figsize=(7,7))\n",
        "splot = sns.barplot(data=bike_sharing_df,x='Holiday',y='Rented Bike Count')\n",
        "for p in splot.patches:\n",
        "    splot.annotate(format(p.get_height(), '.1f'),\n",
        "                   (p.get_x() + p.get_width() / 2., p.get_height()),\n",
        "                   ha = 'center', va = 'center',\n",
        "                   xytext = (0, 9),\n",
        "                   textcoords = 'offset points')\n",
        "plt.xlabel(\"Holiday variable\",size=14)\n",
        "plt.ylabel(\"Rented Bike Count\", size=14)\n",
        "plt.show()"
      ],
      "metadata": {
        "id": "bwevp1tKp1ck"
      },
      "execution_count": null,
      "outputs": []
    },
    {
      "cell_type": "markdown",
      "source": [
        "##### 1. Why did you pick the specific chart?"
      ],
      "metadata": {
        "id": "ylSl6qgtp1ck"
      }
    },
    {
      "cell_type": "markdown",
      "source": [
        " A bar chart using the Seaborn library in Python to visualize the relationship between the \"Holiday\" variable and the \"Rented Bike Count\" in a bike sharing dataset."
      ],
      "metadata": {
        "id": "m2xqNkiQp1ck"
      }
    },
    {
      "cell_type": "markdown",
      "source": [
        "##### 2. What is/are the insight(s) found from the chart?"
      ],
      "metadata": {
        "id": "ZWILFDl5p1ck"
      }
    },
    {
      "cell_type": "markdown",
      "source": [
        "The bar chart visually represents the relationship between the \"Holiday\" variable and the \"Rented Bike Count\" in a bike sharing dataset. From the chart, it can be inferred that there is a noticeable difference in bike rental counts between holidays and non-holidays. The bars corresponding to holidays and non-holidays demonstrate distinct heights, suggesting that more bikes tend to be rented on one of these categories compared to the other"
      ],
      "metadata": {
        "id": "x-lUsV2mp1ck"
      }
    },
    {
      "cell_type": "markdown",
      "source": [
        "##### 3. Will the gained insights help creating a positive business impact?\n",
        "Are there any insights that lead to negative growth? Justify with specific reason."
      ],
      "metadata": {
        "id": "M7G43BXep1ck"
      }
    },
    {
      "cell_type": "markdown",
      "source": [
        "The gained insights from the chart can potentially contribute to positive business impact for a bike-sharing service. The observed difference in bike rental counts between holidays and non-holidays suggests that the company could strategically adjust its operations, marketing, and resource allocation based on these patterns."
      ],
      "metadata": {
        "id": "5wwDJXsLp1cl"
      }
    },
    {
      "cell_type": "markdown",
      "source": [
        "#### Chart - 13"
      ],
      "metadata": {
        "id": "Ag9LCva-p1cl"
      }
    },
    {
      "cell_type": "code",
      "source": [
        "# Chart - 13 visualization code\n",
        "plt.scatter(data=bike_sharing_df,x='Snowfall (cm)',y='Rented Bike Count')\n",
        "plt.title('Number of bikes rented across different snowfall intensities',size=10)\n",
        "plt.xlabel('Snowfall in cm')\n",
        "plt.ylabel('Rented Bike Count')\n",
        "plt.show()"
      ],
      "metadata": {
        "id": "EUfxeq9-p1cl"
      },
      "execution_count": null,
      "outputs": []
    },
    {
      "cell_type": "markdown",
      "source": [
        "##### 1. Why did you pick the specific chart?"
      ],
      "metadata": {
        "id": "E6MkPsBcp1cl"
      }
    },
    {
      "cell_type": "markdown",
      "source": [
        "The selection of a scatter plot for visualizing the relationship between \"Snowfall (cm)\" and \"Rented Bike Count\" is justified by its suitability for examining patterns and correlations between two numerical variables. Scatter plots are particularly effective in showcasing individual data points, allowing for a detailed exploration of how changes in snowfall intensity correspond to variations in bike rental counts."
      ],
      "metadata": {
        "id": "V22bRsFWp1cl"
      }
    },
    {
      "cell_type": "markdown",
      "source": [
        "##### 2. What is/are the insight(s) found from the chart?"
      ],
      "metadata": {
        "id": "2cELzS2fp1cl"
      }
    },
    {
      "cell_type": "markdown",
      "source": [
        "The scatter plot depicting the relationship between \"Snowfall (cm)\" and \"Rented Bike Count\" reveals several key insights. Firstly, it indicates whether there is a discernible correlation between the intensity of snowfall and the number of bikes rented. A positive correlation would imply that bike rentals tend to increase with higher snowfall, possibly due to a greater demand for alternative transportation options during inclement weather."
      ],
      "metadata": {
        "id": "ozQPc2_Ip1cl"
      }
    },
    {
      "cell_type": "markdown",
      "source": [
        "##### 3. Will the gained insights help creating a positive business impact?\n",
        "Are there any insights that lead to negative growth? Justify with specific reason."
      ],
      "metadata": {
        "id": "3MPXvC8up1cl"
      }
    },
    {
      "cell_type": "markdown",
      "source": [
        "The insights gained from the scatter plot of \"Snowfall (cm)\" against \"Rented Bike Count\" can potentially contribute to positive business impact. If a positive correlation is observed, indicating an increase in bike rentals with higher snowfall, the business can strategically leverage this information. For instance, the company might implement targeted marketing campaigns promoting the convenience of bike rentals during snowy conditions or enhance operational preparedness during such periods to meet increased demand."
      ],
      "metadata": {
        "id": "GL8l1tdLp1cl"
      }
    },
    {
      "cell_type": "markdown",
      "source": [
        "#### Chart - 14 - Correlation Heatmap"
      ],
      "metadata": {
        "id": "NC_X3p0fY2L0"
      }
    },
    {
      "cell_type": "code",
      "source": [
        "# Correlation Heatmap visualization code\n",
        "# Import necessary libraries for visualization\n",
        "import seaborn as sns\n",
        "import matplotlib.pyplot as plt\n",
        "\n",
        "# Calculate the correlation matrix\n",
        "correlation_matrix = bike_sharing_df.corr()\n",
        "\n",
        "# Set up the matplotlib figure\n",
        "plt.figure(figsize=(12, 8))\n",
        "\n",
        "# Create a heatmap to visualize the correlation matrix\n",
        "sns.heatmap(correlation_matrix, annot=True, cmap='coolwarm', fmt=\".2f\", linewidths=.5)\n",
        "plt.title('Correlation Heatmap of Numerical Variables')\n",
        "plt.show()"
      ],
      "metadata": {
        "id": "xyC9zolEZNRQ"
      },
      "execution_count": null,
      "outputs": []
    },
    {
      "cell_type": "markdown",
      "source": [
        "##### 1. Why did you pick the specific chart?"
      ],
      "metadata": {
        "id": "UV0SzAkaZNRQ"
      }
    },
    {
      "cell_type": "markdown",
      "source": [
        "I choose a heatmap to visualize the correlation matrix between numerical variables because it provides a clear and concise representation of the strength and direction of linear relationships. The heatmap allows for easy identification of patterns and correlations through color-coding, with warmer colors indicating stronger positive correlations and cooler colors indicating stronger negative correlations."
      ],
      "metadata": {
        "id": "DVPuT8LYZNRQ"
      }
    },
    {
      "cell_type": "markdown",
      "source": [
        "##### 2. What is/are the insight(s) found from the chart?"
      ],
      "metadata": {
        "id": "YPEH6qLeZNRQ"
      }
    },
    {
      "cell_type": "markdown",
      "source": [
        "The correlation heatmap provides valuable insights into the relationships between numerical variables in the dataset. Notably, there is a strong positive correlation between 'Temperature(°C)' and 'Solar Radiation (MJ/m2),' indicating that higher temperatures are associated with increased solar radiation."
      ],
      "metadata": {
        "id": "bfSqtnDqZNRR"
      }
    },
    {
      "cell_type": "markdown",
      "source": [
        "#### Chart - 15 - Pair Plot"
      ],
      "metadata": {
        "id": "q29F0dvdveiT"
      }
    },
    {
      "cell_type": "code",
      "source": [
        "# Pair Plot visualization code\n",
        "# Import necessary libraries for visualization\n",
        "import seaborn as sns\n",
        "import matplotlib.pyplot as plt\n",
        "\n",
        "# Set the style for the plot\n",
        "sns.set(style=\"ticks\")\n",
        "\n",
        "# Select relevant numerical columns for the pair plot\n",
        "numerical_columns = ['Rented Bike Count', 'Hour', 'Temperature(°C)', 'Humidity(%)', 'Wind speed (m/s)', 'Visibility (10m)']\n",
        "\n",
        "# Create a pair plot\n",
        "sns.pairplot(bike_sharing_df[numerical_columns])\n",
        "plt.suptitle('Pair Plot of Numerical Variables', y=1.02)\n",
        "plt.show()"
      ],
      "metadata": {
        "id": "o58-TEIhveiU"
      },
      "execution_count": null,
      "outputs": []
    },
    {
      "cell_type": "markdown",
      "source": [
        "##### 1. Why did you pick the specific chart?"
      ],
      "metadata": {
        "id": "EXh0U9oCveiU"
      }
    },
    {
      "cell_type": "markdown",
      "source": [
        "The choice of a pair plot for this visualization stems from its effectiveness in providing a comprehensive exploration of numerical variables within the dataset. This visualization allows for a simultaneous examination of pairwise relationships between key numerical features, offering insights into potential correlations and patterns. The inclusion of scatter plots in the off-diagonal elements facilitates the identification of trends and outliers, enabling a nuanced understanding of how specific variables may influence each other."
      ],
      "metadata": {
        "id": "eMmPjTByveiU"
      }
    },
    {
      "cell_type": "markdown",
      "source": [
        "##### 2. What is/are the insight(s) found from the chart?"
      ],
      "metadata": {
        "id": "22aHeOlLveiV"
      }
    },
    {
      "cell_type": "markdown",
      "source": [
        "The insights gained from the pair plot hold significant potential for creating a positive business impact in the bike-sharing service. Understanding the relationships between key numerical variables, such as the positive correlation between 'Temperature(°C)' and 'Rented Bike Count,' can inform strategic decision-making."
      ],
      "metadata": {
        "id": "uPQ8RGwHveiV"
      }
    },
    {
      "cell_type": "markdown",
      "source": [
        "## ***5. Hypothesis Testing***"
      ],
      "metadata": {
        "id": "g-ATYxFrGrvw"
      }
    },
    {
      "cell_type": "markdown",
      "source": [
        "### Based on your chart experiments, define three hypothetical statements from the dataset. In the next three questions, perform hypothesis testing to obtain final conclusion about the statements through your code and statistical testing."
      ],
      "metadata": {
        "id": "Yfr_Vlr8HBkt"
      }
    },
    {
      "cell_type": "markdown",
      "source": [
        "### Hypothetical Statement - 1\n",
        "\n",
        "Rented Bike Demand in hot weather is higher compared to demand in cold weather."
      ],
      "metadata": {
        "id": "8yEUt7NnHlrM"
      }
    },
    {
      "cell_type": "markdown",
      "source": [
        "#### 1. State Your research hypothesis as a null hypothesis and alternate hypothesis."
      ],
      "metadata": {
        "id": "tEA2Xm5dHt1r"
      }
    },
    {
      "cell_type": "markdown",
      "source": [
        "Null Hypothesis: $H_o : μ_{cold} = μ_{hot}$\n",
        "\n",
        "Alternate Hypothesis : $H_1 : μ_{cold} \\neq μ_{hot}$\n",
        "\n",
        "Test Type: Two-sample t-test"
      ],
      "metadata": {
        "id": "HI9ZP0laH0D-"
      }
    },
    {
      "cell_type": "markdown",
      "source": [
        "#### 2. Perform an appropriate statistical test."
      ],
      "metadata": {
        "id": "I79__PHVH19G"
      }
    },
    {
      "cell_type": "code",
      "source": [
        "# Perform Statistical Test to obtain P-Value\n",
        "# Split the data into the 'hot' and 'cold' temperature groups\n",
        "hot_temps = data_2[data_2['temperature'] >= 20]['rented_bike_count']\n",
        "cold_temps = data_2[data_2['temperature'] < 20]['rented_bike_count']\n",
        "\n",
        "print(\"Cold temperature Bike Demand Variance: \", np.var(cold_temps))\n",
        "print(\"Hot temperature Bike Demand Variance: \", np.var(hot_temps))"
      ],
      "metadata": {
        "id": "oZrfquKtyian"
      },
      "execution_count": null,
      "outputs": []
    },
    {
      "cell_type": "code",
      "source": [
        "# Sample sizes for different temperature groups\n",
        "print(\"Hot Temp sample size:\", hot_temps.shape[0])\n",
        "print(\"Cold Temp sample size:\", cold_temps.shape[0])"
      ],
      "metadata": {
        "id": "qNWdqebjTd3N"
      },
      "execution_count": null,
      "outputs": []
    },
    {
      "cell_type": "code",
      "source": [
        "# Perform the t-test\n",
        "import scipy\n",
        "t_stat, p_val = scipy.stats.ttest_ind(hot_temps, cold_temps, equal_var=False)\n",
        "\n",
        "if p_val < 0.05:\n",
        "    print(f\"Since p-value ({p_val}) is less than 0.05, we reject null hypothesis.\\nHence, There is a significant difference in mean bike rentals between the 'hot' and 'cold' temperature groups.\")\n",
        "else:\n",
        "  print(f\"Since p-value ({p_val}) is greater than 0.05, we fail to reject null hypothesis.\\nHence, There is no significant difference in mean bike rentals between the 'hot' and 'cold' temperature groups.\")"
      ],
      "metadata": {
        "id": "nM1mIuH7Tikq"
      },
      "execution_count": null,
      "outputs": []
    },
    {
      "cell_type": "markdown",
      "source": [
        "##### Which statistical test have you done to obtain P-Value?"
      ],
      "metadata": {
        "id": "Ou-I18pAyIpj"
      }
    },
    {
      "cell_type": "markdown",
      "source": [
        "I have used Two sample T-test as the statistical testing to obtain P-Value and found the result that Null hypothesis has been rejected and Mean Rented Bike counts different in hot temperatures and cold temperaures."
      ],
      "metadata": {
        "id": "s2U0kk00ygSB"
      }
    },
    {
      "cell_type": "markdown",
      "source": [
        "##### Why did you choose the specific statistical test?"
      ],
      "metadata": {
        "id": "fF3858GYyt-u"
      }
    },
    {
      "cell_type": "markdown",
      "source": [
        "The two sample t-test is used to determine if there is a significant difference between the means of two groups, making it an appropriate test for comparing the mean number of Rented Bike Count between the hot and cold temperature groups.\n",
        "\n",
        "Also We know from previous charts that Rented Bike Count is right skewed with large sample sizes (i.e.,  nhot=2928  &  ncold=5832 ) and we don't know  σp ."
      ],
      "metadata": {
        "id": "HO4K0gP5y3B4"
      }
    },
    {
      "cell_type": "markdown",
      "source": [
        "### Hypothetical Statement - 2\n",
        "\n",
        "Rented Bike Demand during rush hour (7-9AM & 5-7PM) is higher compared to non-rush hour."
      ],
      "metadata": {
        "id": "4_0_7-oCpUZd"
      }
    },
    {
      "cell_type": "markdown",
      "source": [
        "#### 1. State Your research hypothesis as a null hypothesis and alternate hypothesis."
      ],
      "metadata": {
        "id": "hwyV_J3ipUZe"
      }
    },
    {
      "cell_type": "markdown",
      "source": [
        "Null Hypothesis: $H_o : μ_{rush} = μ_{non-rush}$\n",
        "\n",
        "Alternate Hypothesis : $H_1 : μ_{rush} \\neq μ_{non-rush}$\n",
        "\n",
        "Test Type: Two-sample t-test"
      ],
      "metadata": {
        "id": "FnpLGJ-4pUZe"
      }
    },
    {
      "cell_type": "markdown",
      "source": [
        "#### 2. Perform an appropriate statistical test."
      ],
      "metadata": {
        "id": "3yB-zSqbpUZe"
      }
    },
    {
      "cell_type": "code",
      "source": [
        "# Perform Statistical Test to obtain P-Value\n",
        "# Create subsets of the data based on hour\n",
        "rush_hour = data_2[(data_2['hour'] >= 7) & (data_2['hour'] <= 9) | (data_2['hour'] >= 17) & (data_2['hour'] <= 19)]['rented_bike_count']\n",
        "non_rush_hour = data_2[~((data_2['hour'] >= 7) & (data_2['hour'] <= 9) | (data_2['hour'] >= 17) & (data_2['hour'] <= 19))]['rented_bike_count']\n",
        "print(\"Rush Hour Bike Demand Variance: \", np.var(rush_hour))\n",
        "print(\"Non-Rush Hour Bike Demand Variance: \", np.var(non_rush_hour))"
      ],
      "metadata": {
        "id": "sWxdNTXNpUZe"
      },
      "execution_count": null,
      "outputs": []
    },
    {
      "cell_type": "code",
      "source": [
        "# Sample sizes for different hours\n",
        "print(\"Rush Hour sample size:\", rush_hour.shape[0])\n",
        "print(\"Non-Rush Hour sample size:\", non_rush_hour.shape[0])"
      ],
      "metadata": {
        "id": "jlojbSC6UYwm"
      },
      "execution_count": null,
      "outputs": []
    },
    {
      "cell_type": "code",
      "source": [
        "# Conduct a two-sample t-test to compare the mean bike rental demand during rush hour with the mean bike rental demand during non-rush hour times\n",
        "t_stat, p_val = scipy.stats.ttest_ind(rush_hour, non_rush_hour, equal_var=False)\n",
        "\n",
        "# Print the t-test results\n",
        "# print('t-statistic:', t_stat)\n",
        "# print('p-value:', p_val)\n",
        "\n",
        "if p_val < 0.05:\n",
        "    print(f\"Since p-value ({p_val}) is less than 0.05, we reject null hypothesis.\\nHence, There is a significant difference in mean bike rentals between the 'rush hour' and 'non-rush hour' times of day.\")\n",
        "else:\n",
        "  print(f\"Since p-value ({p_val}) is greater than 0.05, we fail to reject null hypothesis.\\nHence, There is no significant difference in mean bike rentals between the 'rush hour' and 'non-rush hour' times of day.\")"
      ],
      "metadata": {
        "id": "PiwWJIx4Uelk"
      },
      "execution_count": null,
      "outputs": []
    },
    {
      "cell_type": "markdown",
      "source": [
        "##### Which statistical test have you done to obtain P-Value?"
      ],
      "metadata": {
        "id": "dEUvejAfpUZe"
      }
    },
    {
      "cell_type": "markdown",
      "source": [
        "I have used Two sample T-test as the statistical testing to obtain P-Value and found the result that Null hypothesis has been rejected and Mean Rented Bike counts different in rush hours and non-rush hours.\n"
      ],
      "metadata": {
        "id": "oLDrPz7HpUZf"
      }
    },
    {
      "cell_type": "markdown",
      "source": [
        "##### Why did you choose the specific statistical test?"
      ],
      "metadata": {
        "id": "Fd15vwWVpUZf"
      }
    },
    {
      "cell_type": "markdown",
      "source": [
        "The two sample t-test is used to determine if there is a significant difference between the means of two groups, making it an appropriate test for comparing the mean number of Rented Bike Count between the rush hours and non-rush hours.\n",
        "\n",
        "Also We know from previous charts that **Rented Bike Count** is **right skewed** with **large sample sizes** (i.e.,  $n_{rush}=2190$  &  $n_{non-rush}=6570$) and we **don't know $\\sigma_{p}$**."
      ],
      "metadata": {
        "id": "4xOGYyiBpUZf"
      }
    },
    {
      "cell_type": "markdown",
      "source": [
        "### Hypothetical Statement - 3\n",
        "\n",
        "Rented Bike Demand is different in different seasons with highest in summer and lowest in winter."
      ],
      "metadata": {
        "id": "bn_IUdTipZyH"
      }
    },
    {
      "cell_type": "markdown",
      "source": [
        "#### 1. State Your research hypothesis as a null hypothesis and alternate hypothesis."
      ],
      "metadata": {
        "id": "49K5P_iCpZyH"
      }
    },
    {
      "cell_type": "markdown",
      "source": [
        "Null Hypothesis: $H_o :$ **No significant difference** between rented bike counts for different seasons.\n",
        "\n",
        "Alternate Hypothesis : $H_1 :$ **Significant difference** between rented bike counts for different seasons.\n",
        "\n",
        "Test Type: One-way ANOVA test"
      ],
      "metadata": {
        "id": "7gWI5rT9pZyH"
      }
    },
    {
      "cell_type": "markdown",
      "source": [
        "#### 2. Perform an appropriate statistical test."
      ],
      "metadata": {
        "id": "Nff-vKELpZyI"
      }
    },
    {
      "cell_type": "code",
      "source": [
        "# Perform Statistical Test to obtain P-Value\n",
        "# Sample sizes for different seasons\n",
        "data_2.groupby('seasons')['rented_bike_count'].count()"
      ],
      "metadata": {
        "id": "s6AnJQjtpZyI"
      },
      "execution_count": null,
      "outputs": []
    },
    {
      "cell_type": "code",
      "source": [
        "# Group the data by season and calculate the mean number of bike rentals for each season\n",
        "season_means = data_2.groupby('seasons')['rented_bike_count'].mean()\n",
        "\n",
        "# Conduct the ANOVA test\n",
        "f_stat, p_value = scipy.stats.f_oneway(data_2.loc[data_2['seasons']=='Spring', 'rented_bike_count'],\n",
        "                                  data_2.loc[data_2['seasons']=='Summer', 'rented_bike_count'],\n",
        "                                  data_2.loc[data_2['seasons']=='Autumn', 'rented_bike_count'],\n",
        "                                  data_2.loc[data_2['seasons']=='Winter', 'rented_bike_count'])\n",
        "\n",
        "# Print the results\n",
        "print('F-statistic:', f_stat)\n",
        "print('p-value:', p_val)\n",
        "print()\n",
        "\n",
        "# Conduct Tukey's HSD test for detailed difference b/w each groups\n",
        "from statsmodels.stats.multicomp import pairwise_tukeyhsd\n",
        "tukey_results = pairwise_tukeyhsd(data_2['rented_bike_count'], data_2['seasons'])\n",
        "\n",
        "# Print the Tukey HSD test results\n",
        "print(tukey_results)"
      ],
      "metadata": {
        "id": "XwflNwepVANz"
      },
      "execution_count": null,
      "outputs": []
    },
    {
      "cell_type": "markdown",
      "source": [
        "##### Which statistical test have you done to obtain P-Value?"
      ],
      "metadata": {
        "id": "kLW572S8pZyI"
      }
    },
    {
      "cell_type": "markdown",
      "source": [
        "I have used One-way ANOVA test as the statistical testing to obtain P-Value and found the result that Null hypothesis has been rejected and Mean Rented Bike counts are significantly different in different seasons."
      ],
      "metadata": {
        "id": "ytWJ8v15pZyI"
      }
    },
    {
      "cell_type": "markdown",
      "source": [
        "##### Why did you choose the specific statistical test?"
      ],
      "metadata": {
        "id": "dWbDXHzopZyI"
      }
    },
    {
      "cell_type": "markdown",
      "source": [
        "The one-way ANOVA test is used to determine if there is a significant difference between the means of **more than two groups**, making it an appropriate test for comparing the mean number of Rented Bike Count between different seasons.\n",
        "\n",
        "Also We know from previous charts that **Rented Bike Count** is **right skewed** with **large sample sizes** (i.e.,  $n_{autumn}=2184$, $n_{spring}=2208$, $n_{summer}=2208$ , $n_{winter}=2160$)."
      ],
      "metadata": {
        "id": "M99G98V6pZyI"
      }
    },
    {
      "cell_type": "markdown",
      "source": [
        "## ***6. Feature Engineering & Data Pre-processing***"
      ],
      "metadata": {
        "id": "yLjJCtPM0KBk"
      }
    },
    {
      "cell_type": "markdown",
      "source": [
        "### 1. Handling Missing Values"
      ],
      "metadata": {
        "id": "xiyOF9F70UgQ"
      }
    },
    {
      "cell_type": "code",
      "source": [
        "# Handling Missing Values & Missing Value Imputation\n",
        "data_2.isna().sum().sum()"
      ],
      "metadata": {
        "id": "iRsAHk1K0fpS"
      },
      "execution_count": null,
      "outputs": []
    },
    {
      "cell_type": "markdown",
      "source": [
        "#### What all missing value imputation techniques have you used and why did you use those techniques?"
      ],
      "metadata": {
        "id": "7wuGOrhz0itI"
      }
    },
    {
      "cell_type": "markdown",
      "source": [
        "No missing/null values in the dataset."
      ],
      "metadata": {
        "id": "1ixusLtI0pqI"
      }
    },
    {
      "cell_type": "markdown",
      "source": [
        "### 2. Handling Outliers"
      ],
      "metadata": {
        "id": "id1riN9m0vUs"
      }
    },
    {
      "cell_type": "code",
      "source": [
        "# Handling Outliers & Outlier treatments\n",
        "# Removing outliers by Using IQR method:\n",
        "q1, q3, median = data_2.rented_bike_count.quantile([0.25,0.75,0.5])\n",
        "lower_limit = q1 - 1.5*(q3-q1)\n",
        "upper_limit = q3 + 1.5*(q3-q1)\n",
        "data_2['rented_bike_count'] = np.where(data_2['rented_bike_count'] > upper_limit, median,np.where(data_2['rented_bike_count'] < lower_limit,median,data_2['rented_bike_count']))\n",
        "\n",
        "# Removing outliers by Capping:\n",
        "for col in ['wind_speed','solar_radiation','rainfall','snowfall']:\n",
        "  upper_limit = data_2[col].quantile(0.99)\n",
        "  data_2[col] = np.where(data_2[col] > upper_limit, upper_limit, data_2[col])"
      ],
      "metadata": {
        "id": "M6w2CzZf04JK"
      },
      "execution_count": null,
      "outputs": []
    },
    {
      "cell_type": "markdown",
      "source": [
        "##### What all outlier treatment techniques have you used and why did you use those techniques?"
      ],
      "metadata": {
        "id": "578E2V7j08f6"
      }
    },
    {
      "cell_type": "markdown",
      "source": [
        "Here i used IQR method and Capping method, Based on IQR method i set Upper limit and Lower limit of rented bike count and convert those outliers into median values.\n",
        "\n",
        "Also i have capp outliers upto 99th percentile and above that i convert those outliers into upper limit value.\n",
        "\n",
        "\n",
        "\n",
        "\n"
      ],
      "metadata": {
        "id": "uGZz5OrT1HH-"
      }
    },
    {
      "cell_type": "markdown",
      "source": [
        "### 3. Categorical Encoding"
      ],
      "metadata": {
        "id": "89xtkJwZ18nB"
      }
    },
    {
      "cell_type": "code",
      "source": [
        "# Encode your categorical columns\n",
        "# Converting snowfall and rainfall to categorical attributes\n",
        "data_2['snowfall'] = data_2['snowfall'].apply(lambda x: 1 if x>0 else 0)\n",
        "data_2['rainfall'] = data_2['rainfall'].apply(lambda x: 1 if x>0 else 0)\n",
        "\n",
        "# Encoding the visibility column\n",
        "data_2['visibility'] = data_2['visibility'].apply(lambda x: 0 if 0<=x<=399 else (1 if 400<=x<=999 else 2))\n",
        "\n",
        "# Encoding\n",
        "data_2['func_day'] = np.where(data_2['func_day'] == 'Yes',1,0)\n",
        "data_2['holiday'] = np.where(data_2['holiday'] == 'Holiday',1,0)\n",
        "\n",
        "# One hot encoding\n",
        "data_2 = pd.get_dummies(data_2, columns = ['hour', 'visibility', 'month', 'day_of_week' ])\n",
        "\n",
        "data_2.columns"
      ],
      "metadata": {
        "id": "21JmIYMG2hEo"
      },
      "execution_count": null,
      "outputs": []
    },
    {
      "cell_type": "markdown",
      "source": [
        "#### What all categorical encoding techniques have you used & why did you use those techniques?"
      ],
      "metadata": {
        "id": "67NQN5KX2AMe"
      }
    },
    {
      "cell_type": "markdown",
      "source": [
        "Since there are very few day on which there was snowfall / rainfall, it is in my interest that i convert these columns to binary categorical columns indicating whether there was rainfall / snowfall at that particular hour\n",
        "\n",
        "For visibility\n",
        "\n",
        "When\n",
        "\n",
        "Visibility >= 20 Km ---> Clear (high visibility)\n",
        "\n",
        "4 Km <= Visibility < 10 Km ---> Haze (medium visibility)\n",
        "\n",
        "Visibility < 4 Km ---> Fog (low visibility)\n",
        "\n",
        "Converting visibility based on the above mentioned threshold values. Since they are ordinal, we can encode them as 0 (low visibility), 1 (medium visibility), 2 (high visibility)\n",
        "\n",
        "For func day and holiday\n",
        "There are two categories whether its holiday or func day so we use 0 and 1 for that.\n",
        "\n",
        "For Hour, visibility, month & day of the week\n",
        "we use here one hot encoding."
      ],
      "metadata": {
        "id": "UDaue5h32n_G"
      }
    },
    {
      "cell_type": "markdown",
      "source": [
        "### 4. Textual Data Preprocessing\n",
        "(It's mandatory for textual dataset i.e., NLP, Sentiment Analysis, Text Clustering etc.)"
      ],
      "metadata": {
        "id": "Iwf50b-R2tYG"
      }
    },
    {
      "cell_type": "markdown",
      "source": [
        "#### 1. Expand Contraction"
      ],
      "metadata": {
        "id": "GMQiZwjn3iu7"
      }
    },
    {
      "cell_type": "code",
      "source": [
        "import nltk\n",
        "nltk.download('punkt')\n",
        "!pip install contractions"
      ],
      "metadata": {
        "id": "a-1BM80sOifV"
      },
      "execution_count": null,
      "outputs": []
    },
    {
      "cell_type": "code",
      "source": [
        "import nltk\n",
        "nltk.download('punkt')\n",
        "from nltk.tokenize import word_tokenize\n",
        "import contractions\n",
        "\n",
        "def expand_contractions(text):\n",
        "    # Tokenize the text into words\n",
        "    words = word_tokenize(text)\n",
        "\n",
        "    # Expand contractions using the contractions library\n",
        "    expanded_words = [contractions.fix(word) for word in words]\n",
        "\n",
        "    # Join the words back into a sentence\n",
        "    expanded_text = ' '.join(expanded_words)\n",
        "\n",
        "    return expanded_text\n",
        "\n",
        "# Example usage:\n",
        "original_text = \"I can't believe he won't come to the party.\"\n",
        "expanded_text = expand_contractions(original_text)\n",
        "print(expanded_text)\n"
      ],
      "metadata": {
        "id": "PTouz10C3oNN"
      },
      "execution_count": null,
      "outputs": []
    },
    {
      "cell_type": "markdown",
      "source": [
        "#### 2. Lower Casing"
      ],
      "metadata": {
        "id": "WVIkgGqN3qsr"
      }
    },
    {
      "cell_type": "code",
      "source": [
        "# Lower Casing\n",
        "text = \"This is an Example Text for Lowercasing.\"\n",
        "lowercased_text = text.lower()\n",
        "print(lowercased_text)\n"
      ],
      "metadata": {
        "id": "88JnJ1jN3w7j"
      },
      "execution_count": null,
      "outputs": []
    },
    {
      "cell_type": "markdown",
      "source": [
        "#### 3. Removing Punctuations"
      ],
      "metadata": {
        "id": "XkPnILGE3zoT"
      }
    },
    {
      "cell_type": "code",
      "source": [
        "# Remove Punctuations\n",
        "import string\n",
        "\n",
        "text = \"This is an example text with some punctuation! How can we remove it?\"\n",
        "\n",
        "# Remove punctuation using string.punctuation\n",
        "no_punctuation_text = text.translate(str.maketrans(\"\", \"\", string.punctuation))\n",
        "\n",
        "print(no_punctuation_text)\n"
      ],
      "metadata": {
        "id": "vqbBqNaA33c0"
      },
      "execution_count": null,
      "outputs": []
    },
    {
      "cell_type": "markdown",
      "source": [
        "#### 4. Removing URLs & Removing words and digits contain digits."
      ],
      "metadata": {
        "id": "Hlsf0x5436Go"
      }
    },
    {
      "cell_type": "code",
      "source": [
        "# Remove URLs & Remove words and digits contain digits\n",
        "import re\n",
        "\n",
        "def remove_urls(text):\n",
        "    # Remove URLs using a regular expression\n",
        "    text_no_urls = re.sub(r'http[s]?://(?:[a-zA-Z]|[0-9]|[$-_@.&+]|[!*\\\\(\\\\),]|(?:%[0-9a-fA-F][0-9a-fA-F]))+', '', text, flags=re.MULTILINE)\n",
        "    return text_no_urls\n",
        "\n",
        "def remove_words_with_digits(text):\n",
        "    # Remove words containing digits using a regular expression\n",
        "    text_no_digits = re.sub(r'\\b\\w*\\d\\w*\\b', '', text)\n",
        "    return text_no_digits\n",
        "\n",
        "# Example usage:\n",
        "original_text = \"Visit our website at https://example.com for more information. Text123 with digits should be removed.\"\n",
        "text_without_urls = remove_urls(original_text)\n",
        "text_without_digits = remove_words_with_digits(text_without_urls)\n",
        "\n",
        "print(\"Original Text:\", original_text)\n",
        "print(\"Text without URLs:\", text_without_urls)\n",
        "print(\"Text without URLs and words with digits:\", text_without_digits)\n"
      ],
      "metadata": {
        "id": "2sxKgKxu4Ip3"
      },
      "execution_count": null,
      "outputs": []
    },
    {
      "cell_type": "markdown",
      "source": [
        "#### 5. Removing Stopwords & Removing White spaces"
      ],
      "metadata": {
        "id": "mT9DMSJo4nBL"
      }
    },
    {
      "cell_type": "code",
      "source": [
        "# Remove Stopwords\n",
        "import nltk\n",
        "from nltk.corpus import stopwords\n",
        "from nltk.tokenize import word_tokenize\n",
        "\n",
        "# Download NLTK stopwords data\n",
        "nltk.download('stopwords')\n",
        "\n",
        "def remove_stopwords(text):\n",
        "    # Tokenize the text\n",
        "    words = word_tokenize(text)\n",
        "\n",
        "    # Remove stopwords using NLTK stopwords\n",
        "    stop_words = set(stopwords.words('english'))\n",
        "    filtered_words = [word for word in words if word.lower() not in stop_words]\n",
        "\n",
        "    # Join the words back into a sentence\n",
        "    text_without_stopwords = ' '.join(filtered_words)\n",
        "\n",
        "    return text_without_stopwords\n",
        "\n",
        "# Example usage:\n",
        "original_text = \"This is an example sentence with some stopwords that should be removed.\"\n",
        "text_without_stopwords = remove_stopwords(original_text)\n",
        "\n",
        "print(\"Original Text:\", original_text)\n",
        "print(\"Text without stopwords:\", text_without_stopwords)\n"
      ],
      "metadata": {
        "id": "T2LSJh154s8W"
      },
      "execution_count": null,
      "outputs": []
    },
    {
      "cell_type": "code",
      "source": [
        "# Remove White spaces\n",
        "import re\n",
        "\n",
        "def remove_whitespaces(text):\n",
        "    # Remove extra white spaces using regular expression\n",
        "    text_no_whitespace = re.sub(r'\\s+', ' ', text).strip()\n",
        "    return text_no_whitespace\n",
        "\n",
        "# Example usage:\n",
        "original_text = \"This is an example sentence with   extra   white   spaces.\"\n",
        "text_without_whitespaces = remove_whitespaces(original_text)\n",
        "\n",
        "print(\"Original Text:\", original_text)\n",
        "print(\"Text without white spaces:\", text_without_whitespaces)\n"
      ],
      "metadata": {
        "id": "EgLJGffy4vm0"
      },
      "execution_count": null,
      "outputs": []
    },
    {
      "cell_type": "markdown",
      "source": [
        "#### 6. Rephrase Text"
      ],
      "metadata": {
        "id": "c49ITxTc407N"
      }
    },
    {
      "cell_type": "code",
      "source": [
        "# Rephrase Text\n",
        "from nltk.corpus import wordnet\n",
        "from nltk.tokenize import word_tokenize\n",
        "import random\n",
        "\n",
        "# Download NLTK data\n",
        "import nltk\n",
        "nltk.download('punkt')\n",
        "nltk.download('wordnet')\n",
        "\n",
        "def get_synonyms(word):\n",
        "    # Get synonyms of a word using WordNet\n",
        "    synonyms = []\n",
        "    for syn in wordnet.synsets(word):\n",
        "        for lemma in syn.lemmas():\n",
        "            synonyms.append(lemma.name())\n",
        "    return synonyms\n",
        "\n",
        "def rephrase_text(text):\n",
        "    # Tokenize the text\n",
        "    words = word_tokenize(text)\n",
        "\n",
        "    # Rephrase each word with a synonym if available\n",
        "    rephrased_words = []\n",
        "    for word in words:\n",
        "        synonyms = get_synonyms(word)\n",
        "        if synonyms:\n",
        "            rephrased_words.append(random.choice(synonyms))\n",
        "        else:\n",
        "            rephrased_words.append(word)\n",
        "\n",
        "    # Join the rephrased words back into a sentence\n",
        "    rephrased_text = ' '.join(rephrased_words)\n",
        "\n",
        "    return rephrased_text\n",
        "\n",
        "# Example usage:\n",
        "original_text = \"The quick brown fox jumps over the lazy dog.\"\n",
        "rephrased_text = rephrase_text(original_text)\n",
        "\n",
        "print(\"Original Text:\", original_text)\n",
        "print(\"Rephrased Text:\", rephrased_text)\n"
      ],
      "metadata": {
        "id": "foqY80Qu48N2"
      },
      "execution_count": null,
      "outputs": []
    },
    {
      "cell_type": "markdown",
      "source": [
        "#### 7. Tokenization"
      ],
      "metadata": {
        "id": "OeJFEK0N496M"
      }
    },
    {
      "cell_type": "code",
      "source": [
        "# Tokenization\n",
        "from nltk.tokenize import word_tokenize\n",
        "\n",
        "# Download NLTK data\n",
        "import nltk\n",
        "nltk.download('punkt')\n",
        "\n",
        "def tokenize_text(text):\n",
        "    # Tokenize the text into words\n",
        "    tokens = word_tokenize(text)\n",
        "    return tokens\n",
        "\n",
        "# Example usage:\n",
        "original_text = \"Tokenization is an important step in natural language processing.\"\n",
        "tokenized_text = tokenize_text(original_text)\n",
        "\n",
        "print(\"Original Text:\", original_text)\n",
        "print(\"Tokenized Text:\", tokenized_text)\n"
      ],
      "metadata": {
        "id": "ijx1rUOS5CUU"
      },
      "execution_count": null,
      "outputs": []
    },
    {
      "cell_type": "markdown",
      "source": [
        "#### 8. Text Normalization"
      ],
      "metadata": {
        "id": "9ExmJH0g5HBk"
      }
    },
    {
      "cell_type": "code",
      "source": [
        "# Normalizing Text (i.e., Stemming, Lemmatization etc.)\n",
        "from nltk.tokenize import word_tokenize\n",
        "from nltk.stem import PorterStemmer, WordNetLemmatizer\n",
        "\n",
        "# Download NLTK data\n",
        "import nltk\n",
        "nltk.download('punkt')\n",
        "nltk.download('wordnet')\n",
        "\n",
        "def normalize_text(text, method='lemmatization'):\n",
        "    # Tokenize the text into words\n",
        "    words = word_tokenize(text)\n",
        "\n",
        "    # Initialize stemming and lemmatization tools\n",
        "    stemmer = PorterStemmer()\n",
        "    lemmatizer = WordNetLemmatizer()\n",
        "\n",
        "    # Apply chosen normalization method\n",
        "    if method == 'stemming':\n",
        "        normalized_words = [stemmer.stem(word) for word in words]\n",
        "    elif method == 'lemmatization':\n",
        "        normalized_words = [lemmatizer.lemmatize(word) for word in words]\n",
        "    else:\n",
        "        raise ValueError(\"Invalid normalization method. Choose 'stemming' or 'lemmatization'.\")\n",
        "\n",
        "    # Join the normalized words back into a sentence\n",
        "    normalized_text = ' '.join(normalized_words)\n",
        "\n",
        "    return normalized_text\n",
        "\n",
        "# Example usage:\n",
        "original_text = \"Normalization involves stemming and lemmatization of text data.\"\n",
        "stemmed_text = normalize_text(original_text, method='stemming')\n",
        "lemmatized_text = normalize_text(original_text, method='lemmatization')\n",
        "\n",
        "print(\"Original Text:\", original_text)\n",
        "print(\"Stemmed Text:\", stemmed_text)\n",
        "print(\"Lemmatized Text:\", lemmatized_text)\n"
      ],
      "metadata": {
        "id": "AIJ1a-Zc5PY8"
      },
      "execution_count": null,
      "outputs": []
    },
    {
      "cell_type": "markdown",
      "source": [
        "##### Which text normalization technique have you used and why?"
      ],
      "metadata": {
        "id": "cJNqERVU536h"
      }
    },
    {
      "cell_type": "markdown",
      "source": [
        "\n",
        "Used both stemming and lemmatization for text normalization:\n",
        "\n",
        "Stemming:\n",
        "\n",
        "1.Technique: Porter Stemming\n",
        "\n",
        "2.Purpose: Simplifies words by removing suffixes.\n",
        "\n",
        "Lemmatization:\n",
        "\n",
        "1.Technique: WordNet Lemmatization\n",
        "\n",
        "2.Purpose: Reduces words to base form, preserving linguistic meaning."
      ],
      "metadata": {
        "id": "Z9jKVxE06BC1"
      }
    },
    {
      "cell_type": "markdown",
      "source": [
        "#### 9. Part of speech tagging"
      ],
      "metadata": {
        "id": "k5UmGsbsOxih"
      }
    },
    {
      "cell_type": "code",
      "source": [
        "# POS Taging\n",
        "from nltk import pos_tag\n",
        "from nltk.tokenize import word_tokenize\n",
        "\n",
        "# Download NLTK data\n",
        "import nltk\n",
        "nltk.download('punkt')\n",
        "nltk.download('averaged_perceptron_tagger')\n",
        "\n",
        "def pos_tagging(text):\n",
        "    # Tokenize the text into words\n",
        "    words = word_tokenize(text)\n",
        "\n",
        "    # Perform POS tagging\n",
        "    pos_tags = pos_tag(words)\n",
        "\n",
        "    return pos_tags\n",
        "\n",
        "# Example usage:\n",
        "original_text = \"Part-of-speech tagging helps identify the grammatical category of each word.\"\n",
        "pos_tags = pos_tagging(original_text)\n",
        "\n",
        "print(\"Original Text:\", original_text)\n",
        "print(\"POS Tags:\", pos_tags)\n"
      ],
      "metadata": {
        "id": "btT3ZJBAO6Ik"
      },
      "execution_count": null,
      "outputs": []
    },
    {
      "cell_type": "markdown",
      "source": [
        "#### 10. Text Vectorization"
      ],
      "metadata": {
        "id": "T0VqWOYE6DLQ"
      }
    },
    {
      "cell_type": "code",
      "source": [
        "# Vectorizing Text\n",
        "from sklearn.feature_extraction.text import CountVectorizer\n",
        "\n",
        "# Example text data\n",
        "corpus = [\n",
        "    \"This is the first document.\",\n",
        "    \"This document is the second document.\",\n",
        "    \"And this is the third one.\",\n",
        "    \"Is this the first document?\"\n",
        "]\n",
        "\n",
        "# Create a CountVectorizer instance\n",
        "vectorizer = CountVectorizer()\n",
        "\n",
        "# Fit and transform the text data\n",
        "X = vectorizer.fit_transform(corpus)\n",
        "\n",
        "# Convert the sparse matrix to a dense array for better visibility\n",
        "dense_array = X.toarray()\n",
        "\n",
        "# Get feature names (words) from the vectorizer\n",
        "feature_names = vectorizer.get_feature_names_out()\n",
        "\n",
        "# Display the results\n",
        "print(\"Text Data:\")\n",
        "for i, text in enumerate(corpus):\n",
        "    print(f\"Document {i + 1}: {text}\")\n",
        "\n",
        "print(\"\\nFeature Names (Words):\", feature_names)\n",
        "print(\"\\nBoW Vectorized Text:\")\n",
        "print(dense_array)\n"
      ],
      "metadata": {
        "id": "yBRtdhth6JDE"
      },
      "execution_count": null,
      "outputs": []
    },
    {
      "cell_type": "markdown",
      "source": [
        "##### Which text vectorization technique have you used and why?"
      ],
      "metadata": {
        "id": "qBMux9mC6MCf"
      }
    },
    {
      "cell_type": "markdown",
      "source": [
        "\n",
        "Used Bag of Words (BoW) vectorization with CountVectorizer for its simplicity and versatility in transforming text into numerical representations."
      ],
      "metadata": {
        "id": "su2EnbCh6UKQ"
      }
    },
    {
      "cell_type": "markdown",
      "source": [
        "### 4. Feature Manipulation & Selection"
      ],
      "metadata": {
        "id": "-oLEiFgy-5Pf"
      }
    },
    {
      "cell_type": "markdown",
      "source": [
        "#### 1. Feature Manipulation"
      ],
      "metadata": {
        "id": "C74aWNz2AliB"
      }
    },
    {
      "cell_type": "code",
      "source": [
        "# Manipulate Features to minimize feature correlation and create new features\n",
        "# We see that the temperature and dew temperature are highly correlated\n",
        "\n",
        "# Plotting Scatter plot to visualize the relationship between\n",
        "# temperature and dew point temperature\n",
        "plt.figure(figsize=(9,6))\n",
        "sns.scatterplot(x='temperature',y='dew_point_temp',data=data_2)\n",
        "plt.xlabel('temperature')\n",
        "plt.ylabel('dew_point_temp')\n",
        "plt.title('Temperature VS Dew point Temperature')\n",
        "plt.show()"
      ],
      "metadata": {
        "id": "h1qC4yhBApWC"
      },
      "execution_count": null,
      "outputs": []
    },
    {
      "cell_type": "code",
      "source": [
        "# Correlation\n",
        "data_2[['temperature','dew_point_temp']].corr()\n"
      ],
      "metadata": {
        "id": "Ie2uubhqT-sa"
      },
      "execution_count": null,
      "outputs": []
    },
    {
      "cell_type": "code",
      "source": [
        "# Creating new temperature column with 50% of both temp\n",
        "data_2['temp'] = 0.5*data_2['temperature'] + 0.5*data_2['dew_point_temp']"
      ],
      "metadata": {
        "id": "-iLHiPfYU1V4"
      },
      "execution_count": null,
      "outputs": []
    },
    {
      "cell_type": "markdown",
      "source": [
        "#### 2. Feature Selection"
      ],
      "metadata": {
        "id": "2DejudWSA-a0"
      }
    },
    {
      "cell_type": "code",
      "source": [
        "# Select your features wisely to avoid overfitting\n",
        "features = [i for i in data_2.columns if i not in ['rented_bike_count','temperature','dew_point_temp']]\n",
        "features"
      ],
      "metadata": {
        "id": "YLhe8UmaBCEE"
      },
      "execution_count": null,
      "outputs": []
    },
    {
      "cell_type": "code",
      "source": [
        "# Remove multicollinearity by using VIF technique\n",
        "from statsmodels.stats.outliers_influence import variance_inflation_factor\n",
        "def calc_vif(X):\n",
        "\n",
        "    # Calculating VIF\n",
        "    vif = pd.DataFrame()\n",
        "    vif[\"variables\"] = X.columns\n",
        "    vif[\"VIF\"] = [variance_inflation_factor(X.values, i) for i in range(X.shape[1])]\n",
        "\n",
        "    return(vif)"
      ],
      "metadata": {
        "id": "zYJsTXOiXwIa"
      },
      "execution_count": null,
      "outputs": []
    },
    {
      "cell_type": "code",
      "source": [
        "continuous_variables = ['temperature', 'humidity', 'wind_speed', 'dew_point_temp', 'solar_radiation', 'temp']"
      ],
      "metadata": {
        "id": "Vcuj39cOXymY"
      },
      "execution_count": null,
      "outputs": []
    },
    {
      "cell_type": "code",
      "source": [
        "continuous_feature_df = pd.DataFrame(data_2[continuous_variables])"
      ],
      "metadata": {
        "id": "1e0hEp3wXy8c"
      },
      "execution_count": null,
      "outputs": []
    },
    {
      "cell_type": "code",
      "source": [
        "continuous_feature_df"
      ],
      "metadata": {
        "id": "wabZlt6PXzVy"
      },
      "execution_count": null,
      "outputs": []
    },
    {
      "cell_type": "code",
      "source": [
        "calc_vif(data_2[[i for i in continuous_feature_df]])"
      ],
      "metadata": {
        "id": "DKkqVWX2X9RX"
      },
      "execution_count": null,
      "outputs": []
    },
    {
      "cell_type": "code",
      "source": [
        "# Removing Temperature and dew point temperature\n",
        "calc_vif(data_2[[i for i in continuous_feature_df if i not in ['dew_point_temp','temperature']]])"
      ],
      "metadata": {
        "id": "0qEEpHXmX9tQ"
      },
      "execution_count": null,
      "outputs": []
    },
    {
      "cell_type": "code",
      "source": [
        "# Dropping data, weekend, temperature and dew_point_temperature\n",
        "data_2.drop(['date','weekend', 'dew_point_temp', 'temperature','seasons'],axis=1, inplace=True)"
      ],
      "metadata": {
        "id": "jI4jUSqRYPS4"
      },
      "execution_count": null,
      "outputs": []
    },
    {
      "cell_type": "code",
      "source": [
        "# This is the final data for modeling\n",
        "data_2.head()"
      ],
      "metadata": {
        "id": "0Q_JZIvyYPsC"
      },
      "execution_count": null,
      "outputs": []
    },
    {
      "cell_type": "markdown",
      "source": [
        "##### What all feature selection methods have you used  and why?"
      ],
      "metadata": {
        "id": "pEMng2IbBLp7"
      }
    },
    {
      "cell_type": "markdown",
      "source": [
        "I have used pearson correlation coefficient to check correlation between variables and also with dependent variable.\n",
        "\n",
        "And also i check the multicollinearity using VIF and remove those who are having high VIF value."
      ],
      "metadata": {
        "id": "rb2Lh6Z8BgGs"
      }
    },
    {
      "cell_type": "markdown",
      "source": [
        "##### Which all features you found important and why?"
      ],
      "metadata": {
        "id": "rAdphbQ9Bhjc"
      }
    },
    {
      "cell_type": "markdown",
      "source": [
        "From above methods i have found that there is high correlation between temperature and dew point temperature. So, i take 50 % of the both and create new variable 'temp' by adding both of them.\n"
      ],
      "metadata": {
        "id": "fGgaEstsBnaf"
      }
    },
    {
      "cell_type": "markdown",
      "source": [
        "### 5. Data Transformation"
      ],
      "metadata": {
        "id": "TNVZ9zx19K6k"
      }
    },
    {
      "cell_type": "markdown",
      "source": [
        "#### Do you think that your data needs to be transformed? If yes, which transformation have you used. Explain Why?"
      ],
      "metadata": {
        "id": "nqoHp30x9hH9"
      }
    },
    {
      "cell_type": "code",
      "source": [
        "# Transform Your data\n",
        "# Visualizing the distribution of the dependent variable - rental bike count\n",
        "plt.figure(figsize=(9,5))\n",
        "sns.distplot(data_2[dependent_variable])\n",
        "plt.xlabel('Rented Bike Count')\n",
        "plt.title('Rented Bike Count Distribution')\n",
        "plt.axvline(data_2[dependent_variable[0]].mean(), color='magenta', linestyle='dashed', linewidth=2)\n",
        "plt.axvline(data_2[dependent_variable[0]].median(), color='cyan', linestyle='dashed', linewidth=2)\n",
        "plt.show()"
      ],
      "metadata": {
        "id": "ClCb2xtTzd1O"
      },
      "execution_count": null,
      "outputs": []
    },
    {
      "cell_type": "code",
      "source": [
        "# Skew of the dependent variable\n",
        "data_2[dependent_variable].skew()"
      ],
      "metadata": {
        "id": "rj8_xqvCYm22"
      },
      "execution_count": null,
      "outputs": []
    },
    {
      "cell_type": "code",
      "source": [
        "# Visualizing the distribution of dependent variable after log transformation\n",
        "plt.figure(figsize=(9,5))\n",
        "sns.distplot(np.log1p(data_2[dependent_variable]))\n",
        "plt.xlabel('Rented Bike Count')\n",
        "plt.title('Rented Bike Count distribution')\n",
        "plt.axvline(np.log1p(data_2['rented_bike_count']).mean(), color='magenta', linestyle='dashed', linewidth=2)\n",
        "plt.axvline(np.log1p(data_2['rented_bike_count']).median(), color='cyan', linestyle='dashed', linewidth=2)\n",
        "plt.show()"
      ],
      "metadata": {
        "id": "Rihx8SWTYnOA"
      },
      "execution_count": null,
      "outputs": []
    },
    {
      "cell_type": "code",
      "source": [
        "# Skew of the dependent variable after log transformation\n",
        "np.log1p(data_2[dependent_variable]).skew()"
      ],
      "metadata": {
        "id": "DR1bxOsEY0og"
      },
      "execution_count": null,
      "outputs": []
    },
    {
      "cell_type": "code",
      "source": [
        "# Visualizing the distribution of dependent variable after sqrt transformation\n",
        "plt.figure(figsize=(9,5))\n",
        "sns.distplot(np.sqrt(data_2[dependent_variable]))\n",
        "plt.xlabel('Rented Bike Count')\n",
        "plt.title('Rented Bike Count distribution')\n",
        "plt.axvline(np.sqrt(data_2['rented_bike_count']).mean(), color='magenta', linestyle='dashed', linewidth=2)\n",
        "plt.axvline(np.sqrt(data_2['rented_bike_count']).median(), color='cyan', linestyle='dashed', linewidth=2)\n",
        "plt.show()"
      ],
      "metadata": {
        "id": "P3HaB4llY1AN"
      },
      "execution_count": null,
      "outputs": []
    },
    {
      "cell_type": "code",
      "source": [
        "# Skew of the dependent variable after sqrt transformation\n",
        "np.sqrt(data_2[dependent_variable]).skew()"
      ],
      "metadata": {
        "id": "RXaulkGSY1WK"
      },
      "execution_count": null,
      "outputs": []
    },
    {
      "cell_type": "code",
      "source": [
        "# Defining dependent and independent variables\n",
        "X = data_2.drop('rented_bike_count',axis=1)\n",
        "y = np.sqrt(data_2[dependent_variable])\n",
        "features"
      ],
      "metadata": {
        "id": "0C3rL9joZFOl"
      },
      "execution_count": null,
      "outputs": []
    },
    {
      "cell_type": "markdown",
      "source": [
        "### 6. Data Scaling"
      ],
      "metadata": {
        "id": "rMDnDkt2B6du"
      }
    },
    {
      "cell_type": "code",
      "source": [
        "features = [i for i in data_2.columns if i not in ['rented_bike_count']]\n",
        "# Scaling your data\n",
        "scaler = StandardScaler()\n",
        "X = scaler.fit_transform(data_2[features])"
      ],
      "metadata": {
        "id": "dL9LWpySC6x_"
      },
      "execution_count": null,
      "outputs": []
    },
    {
      "cell_type": "markdown",
      "source": [
        "##### Which method have you used to scale you data and why?"
      ],
      "metadata": {
        "id": "yiiVWRdJDDil"
      }
    },
    {
      "cell_type": "markdown",
      "source": [
        "In this i have different independent features of different scale so i have used standard scalar method to scale our independent features into one scale."
      ],
      "metadata": {
        "id": "PoF609wCHhvI"
      }
    },
    {
      "cell_type": "markdown",
      "source": [
        "### 7. Dimesionality Reduction"
      ],
      "metadata": {
        "id": "1UUpS68QDMuG"
      }
    },
    {
      "cell_type": "code",
      "source": [
        "# Processed Dataset shape (rows, columns)\n",
        "data_2.shape"
      ],
      "metadata": {
        "id": "o6n-_kKrZk2F"
      },
      "execution_count": null,
      "outputs": []
    },
    {
      "cell_type": "markdown",
      "source": [
        "##### Do you think that dimensionality reduction is needed? Explain Why?"
      ],
      "metadata": {
        "id": "kexQrXU-DjzY"
      }
    },
    {
      "cell_type": "markdown",
      "source": [
        "With 54 columns (independent features) and 8760 rows, and after doing all the feature engineering steps like removing multicolinearity, feature selection manupulations etc. I don't think I need dimensionality reduction here.\n",
        "\n",
        "Essentially where high dimensions are a problem or where it is a particular point in the algorithm to dimension reduction."
      ],
      "metadata": {
        "id": "GGRlBsSGDtTQ"
      }
    },
    {
      "cell_type": "code",
      "source": [
        "# DImensionality Reduction (If needed)"
      ],
      "metadata": {
        "id": "kQfvxBBHDvCa"
      },
      "execution_count": null,
      "outputs": []
    },
    {
      "cell_type": "markdown",
      "source": [
        "##### Which dimensionality reduction technique have you used and why? (If dimensionality reduction done on dataset.)"
      ],
      "metadata": {
        "id": "T5CmagL3EC8N"
      }
    },
    {
      "cell_type": "markdown",
      "source": [
        "Answer Here."
      ],
      "metadata": {
        "id": "ZKr75IDuEM7t"
      }
    },
    {
      "cell_type": "markdown",
      "source": [
        "### 8. Data Splitting"
      ],
      "metadata": {
        "id": "BhH2vgX9EjGr"
      }
    },
    {
      "cell_type": "code",
      "source": [
        "# Split your data to train and test. Choose Splitting ratio wisely.\n",
        "\n",
        "X_train, X_test, y_train, y_test = train_test_split( X, y, test_size = 0.2, random_state = 0)\n"
      ],
      "metadata": {
        "id": "0CTyd2UwEyNM"
      },
      "execution_count": null,
      "outputs": []
    },
    {
      "cell_type": "markdown",
      "source": [
        "##### What data splitting ratio have you used and why?"
      ],
      "metadata": {
        "id": "qjKvONjwE8ra"
      }
    },
    {
      "cell_type": "markdown",
      "source": [
        "To train the model i have split the data into train and test using train_test_split method.\n",
        "\n",
        "There are two competing concerns: with less training data, your parameter estimates have greater variance. With less testing data, your performance statistic will have greater variance. Broadly speaking you should be concerned with dividing data such that neither variance is too high, which is more to do with the absolute number of instances in each category rather than the percentage.\n",
        "\n",
        "If we have a total of 100 instances, we should probably stick with cross validation as no single split is going to give you satisfactory variance in our estimates. If we have 100,000 instances, it doesn't really matter whether we choose an 80:20 split or a 90:10 split.\n",
        "\n",
        "It is surprising to find out that 80/20 is quite a commonly occurring ratio, often referred to as the Pareto principle.\n",
        "\n",
        "So, in this case i have split 80% of the data into train and 20% into test."
      ],
      "metadata": {
        "id": "Y2lJ8cobFDb_"
      }
    },
    {
      "cell_type": "markdown",
      "source": [
        "### 9. Handling Imbalanced Dataset"
      ],
      "metadata": {
        "id": "P1XJ9OREExlT"
      }
    },
    {
      "cell_type": "code",
      "source": [
        "# Distribution of Rented Bike Count (target variable)\n",
        "_ = sns.displot(y, kde=True)\n",
        "plt.xlabel('Rented Bike Count')\n",
        "plt.show()"
      ],
      "metadata": {
        "id": "scgHmoz_aMC9"
      },
      "execution_count": null,
      "outputs": []
    },
    {
      "cell_type": "markdown",
      "source": [
        "##### Do you think the dataset is imbalanced? Explain Why."
      ],
      "metadata": {
        "id": "VFOzZv6IFROw"
      }
    },
    {
      "cell_type": "markdown",
      "source": [
        "Looking at the distribution of traget variable (i.e., Rented Bike Count), values are not concentrated in a narrow range, and is normally distributed accross wide range of values. So the dataset is not imbalanced."
      ],
      "metadata": {
        "id": "GeKDIv7pFgcC"
      }
    },
    {
      "cell_type": "code",
      "source": [
        "# Handling Imbalanced Dataset (If needed)"
      ],
      "metadata": {
        "id": "nQsRhhZLFiDs"
      },
      "execution_count": null,
      "outputs": []
    },
    {
      "cell_type": "markdown",
      "source": [
        "##### What technique did you use to handle the imbalance dataset and why? (If needed to be balanced)"
      ],
      "metadata": {
        "id": "TIqpNgepFxVj"
      }
    },
    {
      "cell_type": "markdown",
      "source": [
        "Answer Here."
      ],
      "metadata": {
        "id": "qbet1HwdGDTz"
      }
    },
    {
      "cell_type": "markdown",
      "source": [
        "## ***7. ML Model Implementation***"
      ],
      "metadata": {
        "id": "VfCC591jGiD4"
      }
    },
    {
      "cell_type": "code",
      "source": [
        "# Defining a function to print evaluation matrix\n",
        "def evaluate_model(model, y_test, y_pred):\n",
        "\n",
        "  '''takes model, y test and y pred values to print evaluation metrics, plot the actual and predicted values,\n",
        "  plot the top 20 important features, and returns a list of the model scores'''\n",
        "\n",
        "  # Squring the y test and and pred as we have used sqrt transformation\n",
        "  y_t = np.square(y_test)\n",
        "  y_p = np.square(y_pred)\n",
        "  y_train2 = np.square(y_train)\n",
        "  y_train_pred = np.square(model.predict(X_train))\n",
        "\n",
        "  # Calculating Evaluation Matrix\n",
        "  mse = mean_squared_error(y_t,y_p)\n",
        "  rmse = np.sqrt(mse)\n",
        "  mae = mean_absolute_error(y_t,y_p)\n",
        "  r2_train = r2_score(y_train2, y_train_pred)\n",
        "  r2 = r2_score(y_t,y_p)\n",
        "  r2_adjusted = 1-(1-r2)*((len(X_test)-1)/(len(X_test)-X_test.shape[1]-1))\n",
        "\n",
        "  # Printing Evaluation Matrix\n",
        "  print(\"MSE :\" , mse)\n",
        "  print(\"RMSE :\" ,rmse)\n",
        "  print(\"MAE :\" ,mae)\n",
        "  print(\"Train R2 :\" ,r2_train)\n",
        "  print(\"Test R2 :\" ,r2)\n",
        "  print(\"Adjusted R2 : \", r2_adjusted)\n",
        "\n",
        "\n",
        "  # plot actual and predicted values\n",
        "  plt.figure(figsize=(13,4))\n",
        "  plt.plot((y_p)[:100])\n",
        "  plt.plot((np.array(y_t)[:100]))\n",
        "  plt.legend([\"Predicted\",\"Actual\"])\n",
        "  plt.title('Actual and Predicted Bike Count', fontsize=15)\n",
        "\n",
        "  try:\n",
        "    importance = model.feature_importances_\n",
        "  except:\n",
        "    importance = model.coef_\n",
        "  importance = np.absolute(importance)\n",
        "  if len(importance)==len(features):\n",
        "    pass\n",
        "  else:\n",
        "    importance = importance[0]\n",
        "\n",
        "  # Feature importances\n",
        "  feat = pd.Series(importance, index=features)\n",
        "  plt.figure(figsize=(9,7))\n",
        "  plt.title('Feature Importances (top 20) for '+str(model), fontsize = 15)\n",
        "  plt.xlabel('Relative Importance')\n",
        "  feat.nlargest(20).plot(kind='barh')\n",
        "\n",
        "\n",
        "  model_score = [mse,rmse,mae,r2_train,r2,r2_adjusted]\n",
        "  return model_score"
      ],
      "metadata": {
        "id": "tcWPH1thIByE"
      },
      "execution_count": null,
      "outputs": []
    },
    {
      "cell_type": "code",
      "source": [
        "# Create a score dataframe\n",
        "score = pd.DataFrame(index = ['MSE', 'RMSE', 'MAE', 'Train R2', 'Test R2', 'Adjusted R2'])"
      ],
      "metadata": {
        "id": "R2pWvR2c1U8z"
      },
      "execution_count": null,
      "outputs": []
    },
    {
      "cell_type": "markdown",
      "source": [
        "### ML Model - 1 :Linear Regression"
      ],
      "metadata": {
        "id": "OB4l2ZhMeS1U"
      }
    },
    {
      "cell_type": "code",
      "source": [
        "# ML Model - 1 Implementation\n",
        "reg = LinearRegression()\n",
        "\n",
        "# Fit the Algorithm\n",
        "reg.fit(X_train, y_train)\n",
        "# Predict on the model\n",
        "y_pred_li = reg.predict(X_test)\n"
      ],
      "metadata": {
        "id": "7ebyywQieS1U"
      },
      "execution_count": null,
      "outputs": []
    },
    {
      "cell_type": "markdown",
      "source": [
        "#### 1. Explain the ML Model used and it's performance using Evaluation metric Score Chart."
      ],
      "metadata": {
        "id": "ArJBuiUVfxKd"
      }
    },
    {
      "cell_type": "code",
      "source": [
        "# Visualizing evaluation Metric Score chart\n",
        "linear_score = evaluate_model(reg, y_test,y_pred_li)\n",
        "# Evaluation Metric Score chart\n",
        "score['Linear regression'] = linear_score"
      ],
      "metadata": {
        "id": "rqD5ZohzfxKe"
      },
      "execution_count": null,
      "outputs": []
    },
    {
      "cell_type": "code",
      "source": [
        "score"
      ],
      "metadata": {
        "id": "ik1Z8x45bTJz"
      },
      "execution_count": null,
      "outputs": []
    },
    {
      "cell_type": "markdown",
      "source": [
        "#### 2. Cross- Validation & Hyperparameter Tuning"
      ],
      "metadata": {
        "id": "4qY1EAkEfxKe"
      }
    },
    {
      "cell_type": "code",
      "source": [
        "# Define the model\n",
        "reg = LinearRegression()\n",
        "\n",
        "# Define the parameters to be optimized\n",
        "param_grid = {'fit_intercept': [True, False]}\n",
        "\n",
        "# Perform grid search\n",
        "grid_search = GridSearchCV(reg, param_grid, cv=5, scoring='r2', return_train_score=True)\n",
        "grid_search.fit(X_train, y_train)"
      ],
      "metadata": {
        "id": "Dy61ujd6fxKe"
      },
      "execution_count": null,
      "outputs": []
    },
    {
      "cell_type": "code",
      "source": [
        "# Print the best parameters and the corresponding score\n",
        "print(\"Best parameters: \", grid_search.best_params_)\n",
        "print(\"Best R2 score: \", grid_search.best_score_)"
      ],
      "metadata": {
        "id": "RCaNl713b6S5"
      },
      "execution_count": null,
      "outputs": []
    },
    {
      "cell_type": "code",
      "source": [
        "# Use the best parameter to train the model\n",
        "best_reg = grid_search.best_estimator_\n",
        "best_reg.fit(X_train, y_train)\n"
      ],
      "metadata": {
        "id": "9QsUieYFb6q7"
      },
      "execution_count": null,
      "outputs": []
    },
    {
      "cell_type": "code",
      "source": [
        "# Predict on test data\n",
        "y_pred_li2 = best_reg.predict(X_test)\n",
        "# Visualizing evaluation Metric Score chart\n",
        "linear_score2 = evaluate_model(best_reg, y_test,y_pred_li2)"
      ],
      "metadata": {
        "id": "vS0blRzXb7AK"
      },
      "execution_count": null,
      "outputs": []
    },
    {
      "cell_type": "code",
      "source": [
        "score['Linear regression tuned'] = linear_score2\n",
        "score"
      ],
      "metadata": {
        "id": "SLDXhG2eb7XC"
      },
      "execution_count": null,
      "outputs": []
    },
    {
      "cell_type": "markdown",
      "source": [
        "##### Which hyperparameter optimization technique have you used and why?"
      ],
      "metadata": {
        "id": "PiV4Ypx8fxKe"
      }
    },
    {
      "cell_type": "markdown",
      "source": [
        "GridSearchCV is used to find the best hyperparameters for a machine learning model by searching over a specified parameter grid. It helps to ensure that a model is not overfitting or underfitting by evaluating the model's performance using cross-validation techniques. GridSearchCV can save time and resources compared to manually tuning the parameters of a model.\n",
        "\n",
        "To reduce time and effort i have used GridSearchCV."
      ],
      "metadata": {
        "id": "negyGRa7fxKf"
      }
    },
    {
      "cell_type": "markdown",
      "source": [
        "##### Have you seen any improvement? Note down the improvement with updates Evaluation metric Score Chart."
      ],
      "metadata": {
        "id": "TfvqoZmBfxKf"
      }
    },
    {
      "cell_type": "markdown",
      "source": [
        "For training data, I found R2 score of 0.784428 & 88090.659090 and 201.806803 as MSE and MAE respectively.\n",
        "\n",
        "For testing data, I found R2 score of 0.789520 & 88090.659090 and 201.806803 as MSE and MAE respectively.\n",
        "\n",
        "For Both training and testing data, no improvement is seen."
      ],
      "metadata": {
        "id": "OaLui8CcfxKf"
      }
    },
    {
      "cell_type": "markdown",
      "source": [
        "### ML Model - 2 : Lasso Regression"
      ],
      "metadata": {
        "id": "dJ2tPlVmpsJ0"
      }
    },
    {
      "cell_type": "markdown",
      "source": [
        "#### 1. Explain the ML Model used and it's performance using Evaluation metric Score Chart."
      ],
      "metadata": {
        "id": "JWYfwnehpsJ1"
      }
    },
    {
      "cell_type": "code",
      "source": [
        "# Import the Lasso Regression class\n",
        "lasso = Lasso()\n",
        "\n",
        "# Fit the lasso regression model to your training data\n",
        "lasso.fit(X_train, y_train)\n",
        "\n",
        "# Predict on the model\n",
        "y_pred_lasso1 = lasso.predict(X_test)"
      ],
      "metadata": {
        "id": "BWDtb7UvEzyX"
      },
      "execution_count": null,
      "outputs": []
    },
    {
      "cell_type": "code",
      "source": [
        "# Visualizing evaluation Metric Score chart\n",
        "lasso_score = evaluate_model(lasso, y_test,y_pred_lasso1)\n",
        "score['Lasso regression'] = lasso_score"
      ],
      "metadata": {
        "id": "yEl-hgQWpsJ1"
      },
      "execution_count": null,
      "outputs": []
    },
    {
      "cell_type": "code",
      "source": [
        "score"
      ],
      "metadata": {
        "id": "gn64LOzWFWpu"
      },
      "execution_count": null,
      "outputs": []
    },
    {
      "cell_type": "markdown",
      "source": [
        "#### 2. Cross- Validation & Hyperparameter Tuning"
      ],
      "metadata": {
        "id": "-jK_YjpMpsJ2"
      }
    },
    {
      "cell_type": "code",
      "source": [
        "# ML Model - 1 Implementation with hyperparameter optimization techniques (i.e., GridSearch CV, RandomSearch CV, Bayesian Optimization etc.)\n",
        "# Define the model\n",
        "lasso = Lasso()\n",
        "\n",
        "# Define the parameters to be optimized & Perform grid search\n",
        "parameters = {'alpha': [1e-15,1e-10,1e-8,1e-5,1e-4,1e-3,1e-2,1,5,10,20,30,40,45,50,55,60,100]}\n",
        "lasso_regressor = GridSearchCV(lasso, parameters, scoring='neg_mean_squared_error', cv=5)\n",
        "\n",
        "# Fitting model\n",
        "lasso_regressor.fit(X_train,y_train)\n",
        "\n"
      ],
      "metadata": {
        "id": "Dn0EOfS6psJ2"
      },
      "execution_count": null,
      "outputs": []
    },
    {
      "cell_type": "code",
      "source": [
        "# Getting optimum parameters\n",
        "print(\"The optimum alpha value is found out to be :\" ,lasso_regressor.best_params_)\n",
        "print(\"\\nUsing \",lasso_regressor.best_params_, \" the negative mean squared error is: \", lasso_regressor.best_score_)"
      ],
      "metadata": {
        "id": "4vBxhj8RGNP_"
      },
      "execution_count": null,
      "outputs": []
    },
    {
      "cell_type": "code",
      "source": [
        "# Import the Lasso Regression class with best alpha\n",
        "lasso = Lasso(alpha = lasso_regressor.best_params_['alpha'])\n",
        "\n",
        "# Fit the lasso regression model to your training data\n",
        "lasso.fit(X_train, y_train)\n",
        "\n",
        "# Predict the model\n",
        "y_pred_lassocv = lasso.predict(X_test)"
      ],
      "metadata": {
        "id": "qmIfaOiRGSN-"
      },
      "execution_count": null,
      "outputs": []
    },
    {
      "cell_type": "code",
      "source": [
        "#Evaluation matrices for Lasso regression\n",
        "lasso2 = evaluate_model(lasso, y_test,y_pred_lassocv)\n",
        "\n",
        "name = 'Lasso with alpha = ' + str(lasso_regressor.best_params_['alpha'])\n",
        "\n",
        "score[name] = lasso2"
      ],
      "metadata": {
        "id": "1ZQZWn9YGZBY"
      },
      "execution_count": null,
      "outputs": []
    },
    {
      "cell_type": "markdown",
      "source": [
        "##### Which hyperparameter optimization technique have you used and why?"
      ],
      "metadata": {
        "id": "HAih1iBOpsJ2"
      }
    },
    {
      "cell_type": "markdown",
      "source": [
        "GridSearchCV is used to find the best hyperparameters for a machine learning model by searching over a specified parameter grid. It helps to ensure that a model is not overfitting or underfitting by evaluating the model's performance using cross-validation techniques. GridSearchCV can save time and resources compared to manually tuning the parameters of a model.\n",
        "\n",
        "To reduce time and effort i have used GridSearchCV."
      ],
      "metadata": {
        "id": "9kBgjYcdpsJ2"
      }
    },
    {
      "cell_type": "markdown",
      "source": [
        "##### Have you seen any improvement? Note down the improvement with updates Evaluation metric Score Chart."
      ],
      "metadata": {
        "id": "zVGeBEFhpsJ2"
      }
    },
    {
      "cell_type": "code",
      "source": [
        "score"
      ],
      "metadata": {
        "id": "xUDkEAaXGnBO"
      },
      "execution_count": null,
      "outputs": []
    },
    {
      "cell_type": "markdown",
      "source": [
        "After tuning i have seen that there is increse in performance from 52% to 78%"
      ],
      "metadata": {
        "id": "74yRdG6UpsJ3"
      }
    },
    {
      "cell_type": "markdown",
      "source": [
        "#### 3. Explain each evaluation metric's indication towards business and the business impact pf the ML model used."
      ],
      "metadata": {
        "id": "bmKjuQ-FpsJ3"
      }
    },
    {
      "cell_type": "markdown",
      "source": [
        "RMSE & MSE are measuring the average squared values between the predicted and actual values.\n",
        "\n",
        "Whereas R2 score is measure how well the model fits the data.\n",
        "\n",
        "In a business context, a low RMSE and high R2 score would indicate that the model is making accurate predictions and is a good fit for the data. This would be desirable for a business because it would mean that the model is able to provide useful insights and make accurate predictions about future outcom"
      ],
      "metadata": {
        "id": "BDKtOrBQpsJ3"
      }
    },
    {
      "cell_type": "markdown",
      "source": [
        "### ML Model - 3: Ridge Regression"
      ],
      "metadata": {
        "id": "Fze-IPXLpx6K"
      }
    },
    {
      "cell_type": "code",
      "source": [
        "# ML Model - 3 Implementation\n",
        "# Ridge regressor class\n",
        "ridge = Ridge()\n",
        "# Fit the Algorithm\n",
        "ridge.fit(X_train, y_train)# Fit the ridge regression model to your train\n",
        "\n",
        "# Predict on the model\n",
        "y_pred_ridge1 = ridge.predict(X_test)"
      ],
      "metadata": {
        "id": "FFrSXAtrpx6M"
      },
      "execution_count": null,
      "outputs": []
    },
    {
      "cell_type": "markdown",
      "source": [
        "#### 1. Explain the ML Model used and it's performance using Evaluation metric Score Chart."
      ],
      "metadata": {
        "id": "7AN1z2sKpx6M"
      }
    },
    {
      "cell_type": "code",
      "source": [
        "# Visualizing evaluation Metric Score chart\n",
        "result = evaluate_model(ridge, y_test,y_pred_ridge1)\n",
        "score['Ridge'] = result"
      ],
      "metadata": {
        "id": "xIY4lxxGpx6M"
      },
      "execution_count": null,
      "outputs": []
    },
    {
      "cell_type": "code",
      "source": [
        "score"
      ],
      "metadata": {
        "id": "wuRDkxA2Hd39"
      },
      "execution_count": null,
      "outputs": []
    },
    {
      "cell_type": "markdown",
      "source": [
        "#### 2. Cross- Validation & Hyperparameter Tuning"
      ],
      "metadata": {
        "id": "9PIHJqyupx6M"
      }
    },
    {
      "cell_type": "code",
      "source": [
        "# ML Model - 3 Implementation with hyperparameter optimization techniques (i.e., GridSearch CV, RandomSearch CV, Bayesian Optimization etc.)\n",
        "# Import Ridge regressor Class\n",
        "ridge = Ridge()\n",
        "\n",
        "# Define the parameters to be optimized & Perform grid search\n",
        "parameters = {'alpha': [1e-15,1e-10,1e-8,1e-5,1e-4,1e-3,1e-2,1,5,10,20,30,40,45,50,55,60,100]}\n",
        "ridge_regressor = GridSearchCV(ridge, parameters, scoring='neg_mean_squared_error', cv=5)\n",
        "\n",
        "# Fitting model\n",
        "ridge_regressor.fit(X_train,y_train)"
      ],
      "metadata": {
        "id": "eSVXuaSKpx6M"
      },
      "execution_count": null,
      "outputs": []
    },
    {
      "cell_type": "code",
      "source": [
        "# Getting optimum parameters\n",
        "print(\"The best fit alpha value is found out to be :\" ,ridge_regressor.best_params_)\n",
        "print(\"\\nUsing \",ridge_regressor.best_params_, \" the negative mean squared error is: \", ridge_regressor.best_score_)"
      ],
      "metadata": {
        "id": "m23c7qlqH0hw"
      },
      "execution_count": null,
      "outputs": []
    },
    {
      "cell_type": "code",
      "source": [
        "# Initiate ridge with best alpha\n",
        "ridge = Ridge(alpha = ridge_regressor.best_params_['alpha'])\n",
        "\n",
        "# Fit the ridge regression model to your training data\n",
        "ridge.fit(X_train, y_train)\n",
        "\n",
        "# Predict on model\n",
        "y_pred_ridge = ridge.predict(X_test)"
      ],
      "metadata": {
        "id": "BHJnUf0GH2-N"
      },
      "execution_count": null,
      "outputs": []
    },
    {
      "cell_type": "code",
      "source": [
        "# Evaluation matrices for Ridge regression\n",
        "result = evaluate_model(ridge, y_test,y_pred_ridge)\n",
        "\n",
        "namer = 'Ridge with alpha = ' + str(ridge_regressor.best_params_['alpha'])\n",
        "\n",
        "score[namer] = result"
      ],
      "metadata": {
        "id": "MlSHBRdOH5p-"
      },
      "execution_count": null,
      "outputs": []
    },
    {
      "cell_type": "markdown",
      "source": [
        "##### Which hyperparameter optimization technique have you used and why?"
      ],
      "metadata": {
        "id": "_-qAgymDpx6N"
      }
    },
    {
      "cell_type": "markdown",
      "source": [
        "GridSearchCV is used to find the best hyperparameters for a machine learning model by searching over a specified parameter grid. It helps to ensure that a model is not overfitting or underfitting by evaluating the model's performance using cross-validation techniques. GridSearchCV can save time and resources compared to manually tuning the parameters of a model.\n",
        "\n",
        "To reduce time and effort we have used GridSearchCV."
      ],
      "metadata": {
        "id": "lQMffxkwpx6N"
      }
    },
    {
      "cell_type": "markdown",
      "source": [
        "##### Have you seen any improvement? Note down the improvement with updates Evaluation metric Score Chart."
      ],
      "metadata": {
        "id": "Z-hykwinpx6N"
      }
    },
    {
      "cell_type": "code",
      "source": [
        "score"
      ],
      "metadata": {
        "id": "--riCki8IG1A"
      },
      "execution_count": null,
      "outputs": []
    },
    {
      "cell_type": "markdown",
      "source": [
        "I have tuned Ridge regression using hyperparametric technique & check the performance of the model and i have found that there is no significant difference in between tuned and without tuned.\n",
        "\n",
        "It performs well only when there is multicollinearity or overfitting situation is present in our case we have already handle the multicollinearity situation, thats why it is not showing any difference in performance."
      ],
      "metadata": {
        "id": "MzVzZC6opx6N"
      }
    },
    {
      "cell_type": "markdown",
      "source": [
        "### 1. Which Evaluation metrics did you consider for a positive business impact and why?"
      ],
      "metadata": {
        "id": "h_CCil-SKHpo"
      }
    },
    {
      "cell_type": "markdown",
      "source": [
        "On the basis of all the model i have decided to select R2 score Evaluation matrics which shows the accuracy of the model which is very good indicator to check the feasibility of the model."
      ],
      "metadata": {
        "id": "jHVz9hHDKFms"
      }
    },
    {
      "cell_type": "markdown",
      "source": [
        "### 2. Which ML model did you choose from the above created models as your final prediction model and why?"
      ],
      "metadata": {
        "id": "cBFFvTBNJzUa"
      }
    },
    {
      "cell_type": "markdown",
      "source": [
        "I have ran a several models like linear regression,Lasso Regression,Ridge Resgression but amongst them i have selected Ridge Regression as i achieved 70% training accuracy and 71% testing accuracy. Some models were overfitted so i did not consider them."
      ],
      "metadata": {
        "id": "6ksF5Q1LKTVm"
      }
    },
    {
      "cell_type": "markdown",
      "source": [
        "### 3. Explain the model which you have used and the feature importance using any model explainability tool?"
      ],
      "metadata": {
        "id": "HvGl1hHyA_VK"
      }
    },
    {
      "cell_type": "markdown",
      "source": [
        "## ***8.*** ***Future Work (Optional)***"
      ],
      "metadata": {
        "id": "EyNgTHvd2WFk"
      }
    },
    {
      "cell_type": "markdown",
      "source": [
        "### 1. Save the best performing ml model in a pickle file or joblib file format for deployment process.\n"
      ],
      "metadata": {
        "id": "KH5McJBi2d8v"
      }
    },
    {
      "cell_type": "code",
      "source": [
        "import xgboost as xgb\n",
        "import pickle\n",
        "\n",
        "# Assuming you have some data (X_train, y_train) and you've trained an XGBoost model\n",
        "xgb_model = xgb.XGBClassifier()\n",
        "\n",
        "# Save the model to a pickle file\n",
        "with open(\"xgb_model.pkl\", \"wb\") as f:\n",
        "    pickle.dump(xgb_model, f)\n"
      ],
      "metadata": {
        "id": "bQIANRl32f4J"
      },
      "execution_count": null,
      "outputs": []
    },
    {
      "cell_type": "markdown",
      "source": [
        "### 2. Again Load the saved model file and try to predict unseen data for a sanity check.\n"
      ],
      "metadata": {
        "id": "iW_Lq9qf2h6X"
      }
    },
    {
      "cell_type": "code",
      "source": [
        "import pickle\n",
        "from sklearn.metrics import mean_squared_error, mean_absolute_error, r2_score\n",
        "import xgboost as xgb\n",
        "\n",
        "# Assuming you have some training data (X_train, y_train) and a test dataset (X_test, y_test)\n",
        "# Train an XGBoost model\n",
        "xgb_model = xgb.XGBRegressor()  # Use appropriate XGBoost model class for regression or classification\n",
        "xgb_model.fit(X_train, y_train)\n",
        "\n",
        "# Save the model to a pickle file\n",
        "with open(\"xgb_model.pkl\", \"wb\") as f:\n",
        "    pickle.dump(xgb_model, f)\n",
        "\n",
        "# Load the XGBoost model from the pickle file\n",
        "with open(\"xgb_model.pkl\", \"rb\") as f:\n",
        "    loaded_xgb_model = pickle.load(f)\n",
        "\n",
        "# Assuming you have a test dataset (X_test, y_test)\n",
        "new_test_preds = loaded_xgb_model.predict(X_test)\n",
        "\n",
        "# Sanity Check\n",
        "mse = mean_squared_error(y_test, new_test_preds)\n",
        "mae = mean_absolute_error(y_test, new_test_preds)\n",
        "r2 = r2_score(y_test, new_test_preds)\n",
        "\n",
        "print(\"MSE:\", mse)\n",
        "print(\"MAE:\", mae)\n",
        "print(\"R2 Score:\", r2)\n"
      ],
      "metadata": {
        "id": "oEXk9ydD2nVC"
      },
      "execution_count": null,
      "outputs": []
    },
    {
      "cell_type": "markdown",
      "source": [
        "### ***Congrats! Your model is successfully created and ready for deployment on a live server for a real user interaction !!!***"
      ],
      "metadata": {
        "id": "-Kee-DAl2viO"
      }
    },
    {
      "cell_type": "markdown",
      "source": [
        "# **Conclusion**"
      ],
      "metadata": {
        "id": "gCX9965dhzqZ"
      }
    },
    {
      "cell_type": "markdown",
      "source": [
        "The project successfully demonstrated the feasibility of using machine learning techniques to predict bike demand in Seoul.\n",
        "\n",
        "Some of the key points are:-\n",
        "\n",
        "*   High demand in the morning and evening.\n",
        "*   Less Demand in the winter season.\n",
        "*   Highest demand in june.\n",
        "*   Found multicollinearity between temperature and dew point temperature.\n",
        "*   Perform linear regression,Lasso Regression,Ridge regression  but amongst them i have selected Ridge Regression as i achieved 70% training accuracy and 71% testing accuracy.\n",
        "*   There is no use of removing outliers, it affects negatively on model performance.\n",
        "\n",
        "Overall, the project highlights the potential of machine learning in solving real-world problems and provides a roadmap for future research in this area. The findings of this project can be extended to other cities with similar bike sharing systems, leading to more effective and efficient bike sharing operations, and better outcomes for all stakeholders.\n"
      ],
      "metadata": {
        "id": "Fjb1IsQkh3yE"
      }
    },
    {
      "cell_type": "markdown",
      "source": [
        "### ***Hurrah! You have successfully completed your Machine Learning Capstone Project !!!***"
      ],
      "metadata": {
        "id": "gIfDvo9L0UH2"
      }
    }
  ]
}